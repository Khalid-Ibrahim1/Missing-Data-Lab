{
 "cells": [
  {
   "cell_type": "markdown",
   "id": "modified-designation",
   "metadata": {},
   "source": [
    "### Import your libraries"
   ]
  },
  {
   "cell_type": "code",
   "execution_count": 1,
   "id": "offensive-lesbian",
   "metadata": {},
   "outputs": [],
   "source": [
    "import pandas as pd\n",
    "import numpy as np\n",
    "import seaborn as sns\n",
    "import matplotlib.pyplot as plt\n",
    "import plotly.express as px"
   ]
  },
  {
   "cell_type": "markdown",
   "id": "israeli-dialogue",
   "metadata": {},
   "source": [
    "### Load your dataset"
   ]
  },
  {
   "cell_type": "code",
   "execution_count": 2,
   "id": "typical-wrong",
   "metadata": {},
   "outputs": [],
   "source": [
    "df = pd.read_csv('HR_Missing_Values.csv')\n"
   ]
  },
  {
   "cell_type": "markdown",
   "id": "federal-television",
   "metadata": {},
   "source": [
    "### Explore your data \n",
    "\n",
    "* First 5 recods.\n",
    "* Last 5 records. \n",
    "* Check data types.\n",
    "* Show statistical summary.\n",
    "* Is there any missing values?\n",
    "* Applay two more data analysis from your choose."
   ]
  },
  {
   "cell_type": "code",
   "execution_count": 3,
   "id": "experienced-democrat",
   "metadata": {},
   "outputs": [
    {
     "data": {
      "text/html": [
       "<div>\n",
       "<style scoped>\n",
       "    .dataframe tbody tr th:only-of-type {\n",
       "        vertical-align: middle;\n",
       "    }\n",
       "\n",
       "    .dataframe tbody tr th {\n",
       "        vertical-align: top;\n",
       "    }\n",
       "\n",
       "    .dataframe thead th {\n",
       "        text-align: right;\n",
       "    }\n",
       "</style>\n",
       "<table border=\"1\" class=\"dataframe\">\n",
       "  <thead>\n",
       "    <tr style=\"text-align: right;\">\n",
       "      <th></th>\n",
       "      <th>Employee_Name</th>\n",
       "      <th>EmpID</th>\n",
       "      <th>Salary</th>\n",
       "      <th>PositionID</th>\n",
       "      <th>Position</th>\n",
       "      <th>DOB</th>\n",
       "      <th>Sex</th>\n",
       "      <th>MaritalDesc</th>\n",
       "      <th>RaceDesc</th>\n",
       "      <th>DateofHire</th>\n",
       "      <th>DateofTermination</th>\n",
       "      <th>Department</th>\n",
       "      <th>ManagerName</th>\n",
       "      <th>ManagerID</th>\n",
       "      <th>RecruitmentSource</th>\n",
       "      <th>Absences</th>\n",
       "    </tr>\n",
       "  </thead>\n",
       "  <tbody>\n",
       "    <tr>\n",
       "      <th>0</th>\n",
       "      <td>Adinolfi, Wilson  K</td>\n",
       "      <td>10026</td>\n",
       "      <td>62506.0</td>\n",
       "      <td>19</td>\n",
       "      <td>Production Technician I</td>\n",
       "      <td>07/10/83</td>\n",
       "      <td>M</td>\n",
       "      <td>Single</td>\n",
       "      <td>White</td>\n",
       "      <td>7/5/2011</td>\n",
       "      <td>NaN</td>\n",
       "      <td>Production</td>\n",
       "      <td>Michael Albert</td>\n",
       "      <td>22.0</td>\n",
       "      <td>LinkedIn</td>\n",
       "      <td>1.0</td>\n",
       "    </tr>\n",
       "    <tr>\n",
       "      <th>1</th>\n",
       "      <td>Ait Sidi, Karthikeyan</td>\n",
       "      <td>10084</td>\n",
       "      <td>104437.0</td>\n",
       "      <td>27</td>\n",
       "      <td>Sr. DBA</td>\n",
       "      <td>05/05/75</td>\n",
       "      <td>M</td>\n",
       "      <td>Married</td>\n",
       "      <td>White</td>\n",
       "      <td>3/30/2015</td>\n",
       "      <td>6/16/2016</td>\n",
       "      <td>IT/IS</td>\n",
       "      <td>Simon Roup</td>\n",
       "      <td>4.0</td>\n",
       "      <td>Indeed</td>\n",
       "      <td>17.0</td>\n",
       "    </tr>\n",
       "    <tr>\n",
       "      <th>2</th>\n",
       "      <td>Akinkuolie, Sarah</td>\n",
       "      <td>10196</td>\n",
       "      <td>64955.0</td>\n",
       "      <td>20</td>\n",
       "      <td>Production Technician II</td>\n",
       "      <td>09/19/88</td>\n",
       "      <td>F</td>\n",
       "      <td>Married</td>\n",
       "      <td>White</td>\n",
       "      <td>7/5/2011</td>\n",
       "      <td>9/24/2012</td>\n",
       "      <td>Production</td>\n",
       "      <td>Kissy Sullivan</td>\n",
       "      <td>20.0</td>\n",
       "      <td>LinkedIn</td>\n",
       "      <td>3.0</td>\n",
       "    </tr>\n",
       "    <tr>\n",
       "      <th>3</th>\n",
       "      <td>Alagbe,Trina</td>\n",
       "      <td>10088</td>\n",
       "      <td>64991.0</td>\n",
       "      <td>19</td>\n",
       "      <td>Production Technician I</td>\n",
       "      <td>NaN</td>\n",
       "      <td>F</td>\n",
       "      <td>Married</td>\n",
       "      <td>White</td>\n",
       "      <td>1/7/2008</td>\n",
       "      <td>NaN</td>\n",
       "      <td>Production</td>\n",
       "      <td>Elijiah Gray</td>\n",
       "      <td>16.0</td>\n",
       "      <td>Indeed</td>\n",
       "      <td>15.0</td>\n",
       "    </tr>\n",
       "    <tr>\n",
       "      <th>4</th>\n",
       "      <td>NaN</td>\n",
       "      <td>10069</td>\n",
       "      <td>50825.0</td>\n",
       "      <td>19</td>\n",
       "      <td>Production Technician I</td>\n",
       "      <td>09/08/89</td>\n",
       "      <td>F</td>\n",
       "      <td>Divorced</td>\n",
       "      <td>White</td>\n",
       "      <td>7/11/2011</td>\n",
       "      <td>9/6/2016</td>\n",
       "      <td>Production</td>\n",
       "      <td>Webster Butler</td>\n",
       "      <td>39.0</td>\n",
       "      <td>Google Search</td>\n",
       "      <td>2.0</td>\n",
       "    </tr>\n",
       "    <tr>\n",
       "      <th>5</th>\n",
       "      <td>NaN</td>\n",
       "      <td>10002</td>\n",
       "      <td>57568.0</td>\n",
       "      <td>19</td>\n",
       "      <td>Production Technician I</td>\n",
       "      <td>05/22/77</td>\n",
       "      <td>F</td>\n",
       "      <td>Single</td>\n",
       "      <td>White</td>\n",
       "      <td>1/9/2012</td>\n",
       "      <td>NaN</td>\n",
       "      <td>Production</td>\n",
       "      <td>Amy Dunn</td>\n",
       "      <td>11.0</td>\n",
       "      <td>LinkedIn</td>\n",
       "      <td>15.0</td>\n",
       "    </tr>\n",
       "    <tr>\n",
       "      <th>6</th>\n",
       "      <td>Andreola, Colby</td>\n",
       "      <td>10194</td>\n",
       "      <td>95660.0</td>\n",
       "      <td>24</td>\n",
       "      <td>Software Engineer</td>\n",
       "      <td>05/24/79</td>\n",
       "      <td>F</td>\n",
       "      <td>Single</td>\n",
       "      <td>White</td>\n",
       "      <td>11/10/2014</td>\n",
       "      <td>NaN</td>\n",
       "      <td>Software Engineering</td>\n",
       "      <td>Alex Sweetwater</td>\n",
       "      <td>10.0</td>\n",
       "      <td>LinkedIn</td>\n",
       "      <td>19.0</td>\n",
       "    </tr>\n",
       "    <tr>\n",
       "      <th>7</th>\n",
       "      <td>Athwal, Sam</td>\n",
       "      <td>10062</td>\n",
       "      <td>59365.0</td>\n",
       "      <td>19</td>\n",
       "      <td>Production Technician I</td>\n",
       "      <td>02/18/83</td>\n",
       "      <td>M</td>\n",
       "      <td>Widowed</td>\n",
       "      <td>White</td>\n",
       "      <td>9/30/2013</td>\n",
       "      <td>NaN</td>\n",
       "      <td>Production</td>\n",
       "      <td>Ketsia Liebig</td>\n",
       "      <td>19.0</td>\n",
       "      <td>Employee Referral</td>\n",
       "      <td>19.0</td>\n",
       "    </tr>\n",
       "    <tr>\n",
       "      <th>8</th>\n",
       "      <td>NaN</td>\n",
       "      <td>10114</td>\n",
       "      <td>47837.0</td>\n",
       "      <td>19</td>\n",
       "      <td>Production Technician I</td>\n",
       "      <td>02/11/70</td>\n",
       "      <td>F</td>\n",
       "      <td>Single</td>\n",
       "      <td>Black or African American</td>\n",
       "      <td>7/6/2009</td>\n",
       "      <td>NaN</td>\n",
       "      <td>Production</td>\n",
       "      <td>Brannon Miller</td>\n",
       "      <td>12.0</td>\n",
       "      <td>Diversity Job Fair</td>\n",
       "      <td>4.0</td>\n",
       "    </tr>\n",
       "    <tr>\n",
       "      <th>9</th>\n",
       "      <td>NaN</td>\n",
       "      <td>10250</td>\n",
       "      <td>NaN</td>\n",
       "      <td>14</td>\n",
       "      <td>IT Support</td>\n",
       "      <td>01/07/88</td>\n",
       "      <td>NaN</td>\n",
       "      <td>Divorced</td>\n",
       "      <td>White</td>\n",
       "      <td>1/5/2015</td>\n",
       "      <td>NaN</td>\n",
       "      <td>IT/IS</td>\n",
       "      <td>Peter Monroe</td>\n",
       "      <td>7.0</td>\n",
       "      <td>Indeed</td>\n",
       "      <td>16.0</td>\n",
       "    </tr>\n",
       "  </tbody>\n",
       "</table>\n",
       "</div>"
      ],
      "text/plain": [
       "              Employee_Name  EmpID    Salary  PositionID  \\\n",
       "0       Adinolfi, Wilson  K  10026   62506.0          19   \n",
       "1  Ait Sidi, Karthikeyan     10084  104437.0          27   \n",
       "2         Akinkuolie, Sarah  10196   64955.0          20   \n",
       "3              Alagbe,Trina  10088   64991.0          19   \n",
       "4                       NaN  10069   50825.0          19   \n",
       "5                       NaN  10002   57568.0          19   \n",
       "6           Andreola, Colby  10194   95660.0          24   \n",
       "7               Athwal, Sam  10062   59365.0          19   \n",
       "8                       NaN  10114   47837.0          19   \n",
       "9                       NaN  10250       NaN          14   \n",
       "\n",
       "                   Position       DOB  Sex MaritalDesc  \\\n",
       "0   Production Technician I  07/10/83   M       Single   \n",
       "1                   Sr. DBA  05/05/75   M      Married   \n",
       "2  Production Technician II  09/19/88    F     Married   \n",
       "3   Production Technician I       NaN    F     Married   \n",
       "4   Production Technician I  09/08/89    F    Divorced   \n",
       "5   Production Technician I  05/22/77    F      Single   \n",
       "6         Software Engineer  05/24/79    F      Single   \n",
       "7   Production Technician I  02/18/83   M      Widowed   \n",
       "8   Production Technician I  02/11/70    F      Single   \n",
       "9                IT Support  01/07/88  NaN    Divorced   \n",
       "\n",
       "                    RaceDesc  DateofHire DateofTermination  \\\n",
       "0                      White    7/5/2011               NaN   \n",
       "1                      White   3/30/2015         6/16/2016   \n",
       "2                      White    7/5/2011         9/24/2012   \n",
       "3                      White    1/7/2008               NaN   \n",
       "4                      White   7/11/2011          9/6/2016   \n",
       "5                      White    1/9/2012               NaN   \n",
       "6                      White  11/10/2014               NaN   \n",
       "7                      White   9/30/2013               NaN   \n",
       "8  Black or African American    7/6/2009               NaN   \n",
       "9                      White    1/5/2015               NaN   \n",
       "\n",
       "             Department      ManagerName  ManagerID   RecruitmentSource  \\\n",
       "0     Production          Michael Albert       22.0            LinkedIn   \n",
       "1                 IT/IS       Simon Roup        4.0              Indeed   \n",
       "2     Production          Kissy Sullivan       20.0            LinkedIn   \n",
       "3     Production            Elijiah Gray       16.0              Indeed   \n",
       "4     Production          Webster Butler       39.0       Google Search   \n",
       "5     Production                Amy Dunn       11.0            LinkedIn   \n",
       "6  Software Engineering  Alex Sweetwater       10.0            LinkedIn   \n",
       "7     Production           Ketsia Liebig       19.0   Employee Referral   \n",
       "8     Production          Brannon Miller       12.0  Diversity Job Fair   \n",
       "9                 IT/IS     Peter Monroe        7.0              Indeed   \n",
       "\n",
       "   Absences  \n",
       "0       1.0  \n",
       "1      17.0  \n",
       "2       3.0  \n",
       "3      15.0  \n",
       "4       2.0  \n",
       "5      15.0  \n",
       "6      19.0  \n",
       "7      19.0  \n",
       "8       4.0  \n",
       "9      16.0  "
      ]
     },
     "execution_count": 3,
     "metadata": {},
     "output_type": "execute_result"
    }
   ],
   "source": [
    "df.head(10)"
   ]
  },
  {
   "cell_type": "code",
   "execution_count": 4,
   "id": "missing-relevance",
   "metadata": {},
   "outputs": [
    {
     "data": {
      "text/html": [
       "<div>\n",
       "<style scoped>\n",
       "    .dataframe tbody tr th:only-of-type {\n",
       "        vertical-align: middle;\n",
       "    }\n",
       "\n",
       "    .dataframe tbody tr th {\n",
       "        vertical-align: top;\n",
       "    }\n",
       "\n",
       "    .dataframe thead th {\n",
       "        text-align: right;\n",
       "    }\n",
       "</style>\n",
       "<table border=\"1\" class=\"dataframe\">\n",
       "  <thead>\n",
       "    <tr style=\"text-align: right;\">\n",
       "      <th></th>\n",
       "      <th>Employee_Name</th>\n",
       "      <th>EmpID</th>\n",
       "      <th>Salary</th>\n",
       "      <th>PositionID</th>\n",
       "      <th>Position</th>\n",
       "      <th>DOB</th>\n",
       "      <th>Sex</th>\n",
       "      <th>MaritalDesc</th>\n",
       "      <th>RaceDesc</th>\n",
       "      <th>DateofHire</th>\n",
       "      <th>DateofTermination</th>\n",
       "      <th>Department</th>\n",
       "      <th>ManagerName</th>\n",
       "      <th>ManagerID</th>\n",
       "      <th>RecruitmentSource</th>\n",
       "      <th>Absences</th>\n",
       "    </tr>\n",
       "  </thead>\n",
       "  <tbody>\n",
       "    <tr>\n",
       "      <th>301</th>\n",
       "      <td>Wilber, Barry</td>\n",
       "      <td>10048</td>\n",
       "      <td>55140.0</td>\n",
       "      <td>19</td>\n",
       "      <td>Production Technician I</td>\n",
       "      <td>09/09/65</td>\n",
       "      <td>M</td>\n",
       "      <td>Married</td>\n",
       "      <td>White</td>\n",
       "      <td>5/16/2011</td>\n",
       "      <td>9/7/2015</td>\n",
       "      <td>Production</td>\n",
       "      <td>Amy Dunn</td>\n",
       "      <td>11.0</td>\n",
       "      <td>Website</td>\n",
       "      <td>7.0</td>\n",
       "    </tr>\n",
       "    <tr>\n",
       "      <th>302</th>\n",
       "      <td>Wilkes, Annie</td>\n",
       "      <td>10204</td>\n",
       "      <td>58062.0</td>\n",
       "      <td>19</td>\n",
       "      <td>Production Technician I</td>\n",
       "      <td>07/30/83</td>\n",
       "      <td>F</td>\n",
       "      <td>Divorced</td>\n",
       "      <td>White</td>\n",
       "      <td>1/10/2011</td>\n",
       "      <td>5/14/2012</td>\n",
       "      <td>Production</td>\n",
       "      <td>Ketsia Liebig</td>\n",
       "      <td>19.0</td>\n",
       "      <td>Google Search</td>\n",
       "      <td>9.0</td>\n",
       "    </tr>\n",
       "    <tr>\n",
       "      <th>303</th>\n",
       "      <td>Williams, Jacquelyn</td>\n",
       "      <td>10264</td>\n",
       "      <td>59728.0</td>\n",
       "      <td>19</td>\n",
       "      <td>Production Technician I</td>\n",
       "      <td>10/02/69</td>\n",
       "      <td>NaN</td>\n",
       "      <td>Single</td>\n",
       "      <td>Black or African American</td>\n",
       "      <td>1/9/2012</td>\n",
       "      <td>6/27/2015</td>\n",
       "      <td>Production</td>\n",
       "      <td>Ketsia Liebig</td>\n",
       "      <td>19.0</td>\n",
       "      <td>Diversity Job Fair</td>\n",
       "      <td>16.0</td>\n",
       "    </tr>\n",
       "    <tr>\n",
       "      <th>304</th>\n",
       "      <td>Winthrop, Jordan</td>\n",
       "      <td>10033</td>\n",
       "      <td>70507.0</td>\n",
       "      <td>20</td>\n",
       "      <td>Production Technician II</td>\n",
       "      <td>11/07/58</td>\n",
       "      <td>M</td>\n",
       "      <td>Single</td>\n",
       "      <td>White</td>\n",
       "      <td>1/7/2013</td>\n",
       "      <td>2/21/2016</td>\n",
       "      <td>Production</td>\n",
       "      <td>Brannon Miller</td>\n",
       "      <td>12.0</td>\n",
       "      <td>LinkedIn</td>\n",
       "      <td>7.0</td>\n",
       "    </tr>\n",
       "    <tr>\n",
       "      <th>305</th>\n",
       "      <td>Wolk, Hang  T</td>\n",
       "      <td>10174</td>\n",
       "      <td>60446.0</td>\n",
       "      <td>20</td>\n",
       "      <td>Production Technician II</td>\n",
       "      <td>NaN</td>\n",
       "      <td>F</td>\n",
       "      <td>Single</td>\n",
       "      <td>White</td>\n",
       "      <td>9/29/2014</td>\n",
       "      <td>NaN</td>\n",
       "      <td>Production</td>\n",
       "      <td>David Stanley</td>\n",
       "      <td>14.0</td>\n",
       "      <td>LinkedIn</td>\n",
       "      <td>NaN</td>\n",
       "    </tr>\n",
       "    <tr>\n",
       "      <th>306</th>\n",
       "      <td>Woodson, Jason</td>\n",
       "      <td>10135</td>\n",
       "      <td>65893.0</td>\n",
       "      <td>20</td>\n",
       "      <td>Production Technician II</td>\n",
       "      <td>05/11/85</td>\n",
       "      <td>M</td>\n",
       "      <td>Single</td>\n",
       "      <td>White</td>\n",
       "      <td>7/7/2014</td>\n",
       "      <td>NaN</td>\n",
       "      <td>Production</td>\n",
       "      <td>Kissy Sullivan</td>\n",
       "      <td>20.0</td>\n",
       "      <td>LinkedIn</td>\n",
       "      <td>13.0</td>\n",
       "    </tr>\n",
       "    <tr>\n",
       "      <th>307</th>\n",
       "      <td>Ybarra, Catherine</td>\n",
       "      <td>10301</td>\n",
       "      <td>48513.0</td>\n",
       "      <td>19</td>\n",
       "      <td>Production Technician I</td>\n",
       "      <td>NaN</td>\n",
       "      <td>F</td>\n",
       "      <td>Single</td>\n",
       "      <td>Asian</td>\n",
       "      <td>9/2/2008</td>\n",
       "      <td>9/29/2015</td>\n",
       "      <td>Production</td>\n",
       "      <td>Brannon Miller</td>\n",
       "      <td>12.0</td>\n",
       "      <td>Google Search</td>\n",
       "      <td>4.0</td>\n",
       "    </tr>\n",
       "    <tr>\n",
       "      <th>308</th>\n",
       "      <td>NaN</td>\n",
       "      <td>10010</td>\n",
       "      <td>220450.0</td>\n",
       "      <td>6</td>\n",
       "      <td>CIO</td>\n",
       "      <td>NaN</td>\n",
       "      <td>F</td>\n",
       "      <td>Single</td>\n",
       "      <td>White</td>\n",
       "      <td>4/10/2010</td>\n",
       "      <td>NaN</td>\n",
       "      <td>IT/IS</td>\n",
       "      <td>Janet King</td>\n",
       "      <td>2.0</td>\n",
       "      <td>Employee Referral</td>\n",
       "      <td>16.0</td>\n",
       "    </tr>\n",
       "    <tr>\n",
       "      <th>309</th>\n",
       "      <td>Zhou, Julia</td>\n",
       "      <td>10043</td>\n",
       "      <td>89292.0</td>\n",
       "      <td>9</td>\n",
       "      <td>Data Analyst</td>\n",
       "      <td>02/24/79</td>\n",
       "      <td>F</td>\n",
       "      <td>Single</td>\n",
       "      <td>White</td>\n",
       "      <td>3/30/2015</td>\n",
       "      <td>NaN</td>\n",
       "      <td>IT/IS</td>\n",
       "      <td>Simon Roup</td>\n",
       "      <td>4.0</td>\n",
       "      <td>Employee Referral</td>\n",
       "      <td>NaN</td>\n",
       "    </tr>\n",
       "    <tr>\n",
       "      <th>310</th>\n",
       "      <td>NaN</td>\n",
       "      <td>10271</td>\n",
       "      <td>45046.0</td>\n",
       "      <td>19</td>\n",
       "      <td>Production Technician I</td>\n",
       "      <td>08/17/78</td>\n",
       "      <td>F</td>\n",
       "      <td>Widowed</td>\n",
       "      <td>Asian</td>\n",
       "      <td>9/29/2014</td>\n",
       "      <td>NaN</td>\n",
       "      <td>Production</td>\n",
       "      <td>David Stanley</td>\n",
       "      <td>14.0</td>\n",
       "      <td>LinkedIn</td>\n",
       "      <td>2.0</td>\n",
       "    </tr>\n",
       "  </tbody>\n",
       "</table>\n",
       "</div>"
      ],
      "text/plain": [
       "             Employee_Name  EmpID    Salary  PositionID  \\\n",
       "301          Wilber, Barry  10048   55140.0          19   \n",
       "302          Wilkes, Annie  10204   58062.0          19   \n",
       "303  Williams, Jacquelyn    10264   59728.0          19   \n",
       "304     Winthrop, Jordan    10033   70507.0          20   \n",
       "305          Wolk, Hang  T  10174   60446.0          20   \n",
       "306         Woodson, Jason  10135   65893.0          20   \n",
       "307     Ybarra, Catherine   10301   48513.0          19   \n",
       "308                    NaN  10010  220450.0           6   \n",
       "309            Zhou, Julia  10043   89292.0           9   \n",
       "310                    NaN  10271   45046.0          19   \n",
       "\n",
       "                     Position       DOB  Sex MaritalDesc  \\\n",
       "301   Production Technician I  09/09/65   M      Married   \n",
       "302   Production Technician I  07/30/83    F    Divorced   \n",
       "303   Production Technician I  10/02/69  NaN      Single   \n",
       "304  Production Technician II  11/07/58   M       Single   \n",
       "305  Production Technician II       NaN    F      Single   \n",
       "306  Production Technician II  05/11/85   M       Single   \n",
       "307   Production Technician I       NaN    F      Single   \n",
       "308                       CIO       NaN    F      Single   \n",
       "309              Data Analyst  02/24/79    F      Single   \n",
       "310   Production Technician I  08/17/78    F     Widowed   \n",
       "\n",
       "                      RaceDesc DateofHire DateofTermination  \\\n",
       "301                      White  5/16/2011          9/7/2015   \n",
       "302                      White  1/10/2011         5/14/2012   \n",
       "303  Black or African American   1/9/2012         6/27/2015   \n",
       "304                      White   1/7/2013         2/21/2016   \n",
       "305                      White  9/29/2014               NaN   \n",
       "306                      White   7/7/2014               NaN   \n",
       "307                      Asian   9/2/2008         9/29/2015   \n",
       "308                      White  4/10/2010               NaN   \n",
       "309                      White  3/30/2015               NaN   \n",
       "310                      Asian  9/29/2014               NaN   \n",
       "\n",
       "            Department     ManagerName  ManagerID   RecruitmentSource  \\\n",
       "301  Production               Amy Dunn       11.0             Website   \n",
       "302  Production          Ketsia Liebig       19.0       Google Search   \n",
       "303  Production          Ketsia Liebig       19.0  Diversity Job Fair   \n",
       "304  Production         Brannon Miller       12.0            LinkedIn   \n",
       "305  Production          David Stanley       14.0            LinkedIn   \n",
       "306  Production         Kissy Sullivan       20.0            LinkedIn   \n",
       "307  Production         Brannon Miller       12.0       Google Search   \n",
       "308              IT/IS      Janet King        2.0   Employee Referral   \n",
       "309              IT/IS      Simon Roup        4.0   Employee Referral   \n",
       "310  Production          David Stanley       14.0            LinkedIn   \n",
       "\n",
       "     Absences  \n",
       "301       7.0  \n",
       "302       9.0  \n",
       "303      16.0  \n",
       "304       7.0  \n",
       "305       NaN  \n",
       "306      13.0  \n",
       "307       4.0  \n",
       "308      16.0  \n",
       "309       NaN  \n",
       "310       2.0  "
      ]
     },
     "execution_count": 4,
     "metadata": {},
     "output_type": "execute_result"
    }
   ],
   "source": [
    "df.tail(10)"
   ]
  },
  {
   "cell_type": "code",
   "execution_count": 5,
   "id": "nuclear-checkout",
   "metadata": {},
   "outputs": [
    {
     "name": "stdout",
     "output_type": "stream",
     "text": [
      "<class 'pandas.core.frame.DataFrame'>\n",
      "RangeIndex: 311 entries, 0 to 310\n",
      "Data columns (total 16 columns):\n",
      " #   Column             Non-Null Count  Dtype  \n",
      "---  ------             --------------  -----  \n",
      " 0   Employee_Name      218 non-null    object \n",
      " 1   EmpID              311 non-null    int64  \n",
      " 2   Salary             249 non-null    float64\n",
      " 3   PositionID         311 non-null    int64  \n",
      " 4   Position           311 non-null    object \n",
      " 5   DOB                280 non-null    object \n",
      " 6   Sex                249 non-null    object \n",
      " 7   MaritalDesc        311 non-null    object \n",
      " 8   RaceDesc           311 non-null    object \n",
      " 9   DateofHire         311 non-null    object \n",
      " 10  DateofTermination  104 non-null    object \n",
      " 11  Department         311 non-null    object \n",
      " 12  ManagerName        311 non-null    object \n",
      " 13  ManagerID          303 non-null    float64\n",
      " 14  RecruitmentSource  311 non-null    object \n",
      " 15  Absences           280 non-null    float64\n",
      "dtypes: float64(3), int64(2), object(11)\n",
      "memory usage: 39.0+ KB\n"
     ]
    }
   ],
   "source": [
    "df.info()"
   ]
  },
  {
   "cell_type": "code",
   "execution_count": 6,
   "id": "headed-birmingham",
   "metadata": {},
   "outputs": [
    {
     "data": {
      "text/html": [
       "<div>\n",
       "<style scoped>\n",
       "    .dataframe tbody tr th:only-of-type {\n",
       "        vertical-align: middle;\n",
       "    }\n",
       "\n",
       "    .dataframe tbody tr th {\n",
       "        vertical-align: top;\n",
       "    }\n",
       "\n",
       "    .dataframe thead th {\n",
       "        text-align: right;\n",
       "    }\n",
       "</style>\n",
       "<table border=\"1\" class=\"dataframe\">\n",
       "  <thead>\n",
       "    <tr style=\"text-align: right;\">\n",
       "      <th></th>\n",
       "      <th>EmpID</th>\n",
       "      <th>Salary</th>\n",
       "      <th>PositionID</th>\n",
       "      <th>ManagerID</th>\n",
       "      <th>Absences</th>\n",
       "    </tr>\n",
       "  </thead>\n",
       "  <tbody>\n",
       "    <tr>\n",
       "      <th>count</th>\n",
       "      <td>311.000000</td>\n",
       "      <td>249.000000</td>\n",
       "      <td>311.000000</td>\n",
       "      <td>303.000000</td>\n",
       "      <td>280.000000</td>\n",
       "    </tr>\n",
       "    <tr>\n",
       "      <th>mean</th>\n",
       "      <td>10156.000000</td>\n",
       "      <td>67972.662651</td>\n",
       "      <td>16.845659</td>\n",
       "      <td>14.570957</td>\n",
       "      <td>10.128571</td>\n",
       "    </tr>\n",
       "    <tr>\n",
       "      <th>std</th>\n",
       "      <td>89.922189</td>\n",
       "      <td>22995.908395</td>\n",
       "      <td>6.223419</td>\n",
       "      <td>8.078306</td>\n",
       "      <td>5.946407</td>\n",
       "    </tr>\n",
       "    <tr>\n",
       "      <th>min</th>\n",
       "      <td>10001.000000</td>\n",
       "      <td>45046.000000</td>\n",
       "      <td>1.000000</td>\n",
       "      <td>1.000000</td>\n",
       "      <td>1.000000</td>\n",
       "    </tr>\n",
       "    <tr>\n",
       "      <th>25%</th>\n",
       "      <td>10078.500000</td>\n",
       "      <td>55315.000000</td>\n",
       "      <td>18.000000</td>\n",
       "      <td>10.000000</td>\n",
       "      <td>4.750000</td>\n",
       "    </tr>\n",
       "    <tr>\n",
       "      <th>50%</th>\n",
       "      <td>10156.000000</td>\n",
       "      <td>62957.000000</td>\n",
       "      <td>19.000000</td>\n",
       "      <td>15.000000</td>\n",
       "      <td>10.000000</td>\n",
       "    </tr>\n",
       "    <tr>\n",
       "      <th>75%</th>\n",
       "      <td>10233.500000</td>\n",
       "      <td>71707.000000</td>\n",
       "      <td>20.000000</td>\n",
       "      <td>19.000000</td>\n",
       "      <td>15.250000</td>\n",
       "    </tr>\n",
       "    <tr>\n",
       "      <th>max</th>\n",
       "      <td>10311.000000</td>\n",
       "      <td>220450.000000</td>\n",
       "      <td>30.000000</td>\n",
       "      <td>39.000000</td>\n",
       "      <td>20.000000</td>\n",
       "    </tr>\n",
       "  </tbody>\n",
       "</table>\n",
       "</div>"
      ],
      "text/plain": [
       "              EmpID         Salary  PositionID   ManagerID    Absences\n",
       "count    311.000000     249.000000  311.000000  303.000000  280.000000\n",
       "mean   10156.000000   67972.662651   16.845659   14.570957   10.128571\n",
       "std       89.922189   22995.908395    6.223419    8.078306    5.946407\n",
       "min    10001.000000   45046.000000    1.000000    1.000000    1.000000\n",
       "25%    10078.500000   55315.000000   18.000000   10.000000    4.750000\n",
       "50%    10156.000000   62957.000000   19.000000   15.000000   10.000000\n",
       "75%    10233.500000   71707.000000   20.000000   19.000000   15.250000\n",
       "max    10311.000000  220450.000000   30.000000   39.000000   20.000000"
      ]
     },
     "execution_count": 6,
     "metadata": {},
     "output_type": "execute_result"
    }
   ],
   "source": [
    "df.describe()"
   ]
  },
  {
   "cell_type": "code",
   "execution_count": 7,
   "id": "dominant-freeze",
   "metadata": {},
   "outputs": [
    {
     "data": {
      "text/plain": [
       "Employee_Name         93\n",
       "EmpID                  0\n",
       "Salary                62\n",
       "PositionID             0\n",
       "Position               0\n",
       "DOB                   31\n",
       "Sex                   62\n",
       "MaritalDesc            0\n",
       "RaceDesc               0\n",
       "DateofHire             0\n",
       "DateofTermination    207\n",
       "Department             0\n",
       "ManagerName            0\n",
       "ManagerID              8\n",
       "RecruitmentSource      0\n",
       "Absences              31\n",
       "dtype: int64"
      ]
     },
     "execution_count": 7,
     "metadata": {},
     "output_type": "execute_result"
    }
   ],
   "source": [
    "df.isnull().sum()"
   ]
  },
  {
   "cell_type": "code",
   "execution_count": 8,
   "id": "848daa60",
   "metadata": {},
   "outputs": [
    {
     "data": {
      "text/plain": [
       "Production              209\n",
       "IT/IS                    50\n",
       "Sales                    31\n",
       "Software Engineering     11\n",
       "Admin Offices             9\n",
       "Executive Office          1\n",
       "Name: Department, dtype: int64"
      ]
     },
     "execution_count": 8,
     "metadata": {},
     "output_type": "execute_result"
    }
   ],
   "source": [
    "df['Department'].value_counts()"
   ]
  },
  {
   "cell_type": "code",
   "execution_count": 9,
   "id": "76486fa8",
   "metadata": {},
   "outputs": [
    {
     "data": {
      "text/plain": [
       "Production Technician I         137\n",
       "Production Technician II         57\n",
       "Area Sales Manager               27\n",
       "Production Manager               14\n",
       "Software Engineer                10\n",
       "IT Support                        8\n",
       "Data Analyst                      7\n",
       "Sr. Network Engineer              5\n",
       "Database Administrator            5\n",
       "Network Engineer                  5\n",
       "BI Developer                      4\n",
       "Senior BI Developer               3\n",
       "Administrative Assistant          3\n",
       "Sales Manager                     3\n",
       "Accountant I                      3\n",
       "Sr. DBA                           2\n",
       "IT Manager - DB                   2\n",
       "Sr. Accountant                    2\n",
       "Director of Operations            1\n",
       "Shared Services Manager           1\n",
       "Data Analyst                      1\n",
       "Data Architect                    1\n",
       "Principal Data Architect          1\n",
       "IT Manager - Infra                1\n",
       "President & CEO                   1\n",
       "Enterprise Architect              1\n",
       "BI Director                       1\n",
       "Director of Sales                 1\n",
       "IT Director                       1\n",
       "IT Manager - Support              1\n",
       "Software Engineering Manager      1\n",
       "CIO                               1\n",
       "Name: Position, dtype: int64"
      ]
     },
     "execution_count": 9,
     "metadata": {},
     "output_type": "execute_result"
    }
   ],
   "source": [
    "df['Position'].value_counts()"
   ]
  },
  {
   "cell_type": "code",
   "execution_count": 10,
   "id": "ca19ffc1",
   "metadata": {},
   "outputs": [
    {
     "data": {
      "application/vnd.plotly.v1+json": {
       "config": {
        "plotlyServerURL": "https://plot.ly"
       },
       "data": [
        {
         "alignmentgroup": "True",
         "bingroup": "x",
         "histfunc": "avg",
         "hovertemplate": "Department=%{x}<br>avg of Salary=%{y}<extra></extra>",
         "legendgroup": "",
         "marker": {
          "color": "#636efa",
          "pattern": {
           "shape": ""
          }
         },
         "name": "",
         "offsetgroup": "",
         "orientation": "v",
         "showlegend": false,
         "type": "histogram",
         "x": [
          "Production       ",
          "IT/IS",
          "Production       ",
          "Production       ",
          "Production       ",
          "Production       ",
          "Software Engineering",
          "Production       ",
          "Production       ",
          "IT/IS",
          "Production       ",
          "Production       ",
          "IT/IS",
          "Production       ",
          "Production       ",
          "Production       ",
          "Production       ",
          "Production       ",
          "IT/IS",
          "Production       ",
          "Production       ",
          "Production       ",
          "Production       ",
          "Production       ",
          "Production       ",
          "IT/IS",
          "Admin Offices",
          "Production       ",
          "Production       ",
          "Admin Offices",
          "Production       ",
          "Production       ",
          "Sales",
          "Production       ",
          "Production       ",
          "Software Engineering",
          "Production       ",
          "Software Engineering",
          "Production       ",
          "IT/IS",
          "Sales",
          "Production       ",
          "IT/IS",
          "Production       ",
          "Production       ",
          "Sales",
          "Production       ",
          "Production       ",
          "IT/IS",
          "Production       ",
          "Production       ",
          "Production       ",
          "Production       ",
          "Production       ",
          "Production       ",
          "Production       ",
          "Production       ",
          "IT/IS",
          "Production       ",
          "IT/IS",
          "Sales",
          "IT/IS",
          "Production       ",
          "Production       ",
          "Production       ",
          "Production       ",
          "Software Engineering",
          "Sales",
          "Production       ",
          "Production       ",
          "IT/IS",
          "Production       ",
          "Sales",
          "Production       ",
          "Production       ",
          "IT/IS",
          "IT/IS",
          "Sales",
          "Production       ",
          "Production       ",
          "Production       ",
          "Production       ",
          "Production       ",
          "Production       ",
          "Production       ",
          "Production       ",
          "Software Engineering",
          "Production       ",
          "Production       ",
          "Production       ",
          "Production       ",
          "IT/IS",
          "Production       ",
          "Production       ",
          "Production       ",
          "Sales",
          "IT/IS",
          "Admin Offices",
          "Sales",
          "IT/IS",
          "Production       ",
          "Production       ",
          "Production       ",
          "Production       ",
          "Sales",
          "Production       ",
          "Production       ",
          "Sales",
          "IT/IS",
          "IT/IS",
          "Production       ",
          "Production       ",
          "Production       ",
          "IT/IS",
          "Production       ",
          "Production       ",
          "Production       ",
          "Production       ",
          "Production       ",
          "Production       ",
          "IT/IS",
          "Sales",
          "Production       ",
          "Production       ",
          "Production       ",
          "Production       ",
          "Production       ",
          "Production       ",
          "Sales",
          "Production       ",
          "IT/IS",
          "Sales",
          "Admin Offices",
          "Production       ",
          "Production       ",
          "Production       ",
          "Production       ",
          "Production       ",
          "Production       ",
          "Production       ",
          "Production       ",
          "Production       ",
          "Production       ",
          "Production       ",
          "IT/IS",
          "Production       ",
          "Production       ",
          "Sales",
          "Production       ",
          "Sales",
          "Executive Office",
          "Production       ",
          "Production       ",
          "Production       ",
          "Production       ",
          "Sales",
          "IT/IS",
          "Production       ",
          "Production       ",
          "Production       ",
          "Admin Offices",
          "Production       ",
          "IT/IS",
          "Production       ",
          "Admin Offices",
          "Production       ",
          "Sales",
          "Production       ",
          "Production       ",
          "Production       ",
          "IT/IS",
          "Production       ",
          "Production       ",
          "Production       ",
          "Production       ",
          "Production       ",
          "Production       ",
          "Production       ",
          "Production       ",
          "Production       ",
          "Software Engineering",
          "Production       ",
          "Production       ",
          "Production       ",
          "Sales",
          "Production       ",
          "Production       ",
          "Production       ",
          "Production       ",
          "Production       ",
          "IT/IS",
          "Production       ",
          "Production       ",
          "IT/IS",
          "Production       ",
          "Production       ",
          "Production       ",
          "IT/IS",
          "Production       ",
          "Production       ",
          "Production       ",
          "Production       ",
          "Sales",
          "Production       ",
          "Production       ",
          "Production       ",
          "Production       ",
          "Sales",
          "Production       ",
          "Production       ",
          "Sales",
          "Production       ",
          "Software Engineering",
          "IT/IS",
          "Production       ",
          "Production       ",
          "Production       ",
          "Production       ",
          "Production       ",
          "Production       ",
          "IT/IS",
          "Production       ",
          "Production       ",
          "Sales",
          "Production       ",
          "Production       ",
          "Production       ",
          "Software Engineering",
          "IT/IS",
          "Production       ",
          "Sales",
          "Production       ",
          "Production       ",
          "Production       ",
          "Production       ",
          "Production       ",
          "Production       ",
          "Production       ",
          "IT/IS",
          "IT/IS",
          "IT/IS",
          "Production       ",
          "Production       ",
          "IT/IS",
          "IT/IS",
          "Software Engineering",
          "Production       ",
          "Production       ",
          "Production       ",
          "IT/IS",
          "Production       ",
          "Production       ",
          "IT/IS",
          "Production       ",
          "IT/IS",
          "Admin Offices",
          "Production       ",
          "Production       ",
          "Sales",
          "Admin Offices",
          "Production       ",
          "IT/IS",
          "IT/IS",
          "Production       ",
          "Production       ",
          "Production       ",
          "Production       ",
          "Sales",
          "Admin Offices",
          "Production       ",
          "Sales",
          "Production       ",
          "Production       ",
          "Production       ",
          "Software Engineering",
          "IT/IS",
          "Production       ",
          "Production       ",
          "Sales",
          "Production       ",
          "Production       ",
          "Production       ",
          "Sales",
          "Production       ",
          "IT/IS",
          "Software Engineering",
          "Production       ",
          "IT/IS",
          "Sales",
          "Production       ",
          "Production       ",
          "Sales",
          "IT/IS",
          "Production       ",
          "Production       ",
          "Production       ",
          "Production       ",
          "Production       ",
          "IT/IS",
          "IT/IS",
          "Production       ",
          "Production       ",
          "Production       ",
          "Production       ",
          "Production       ",
          "Production       ",
          "Production       ",
          "Production       ",
          "IT/IS",
          "IT/IS",
          "Production       "
         ],
         "xaxis": "x",
         "y": [
          62506,
          104437,
          64955,
          64991,
          50825,
          57568,
          95660,
          59365,
          47837,
          null,
          null,
          47211,
          92328,
          58709,
          52505,
          57834,
          70131,
          59026,
          110000,
          null,
          null,
          64919,
          null,
          null,
          57815,
          null,
          106367,
          74312,
          53492,
          63000,
          65288,
          64375,
          74326,
          63763,
          null,
          77692,
          72640,
          null,
          52846,
          null,
          null,
          61656,
          110929,
          54237,
          null,
          null,
          64786,
          64816,
          68678,
          64066,
          null,
          50373,
          63108,
          59144,
          68051,
          170500,
          63381,
          83552,
          56149,
          null,
          65729,
          85028,
          57583,
          56294,
          56991,
          55722,
          101199,
          61568,
          58275,
          53189,
          96820,
          51259,
          null,
          61584,
          null,
          null,
          138888,
          74241,
          75188,
          62514,
          null,
          48888,
          54285,
          56847,
          60340,
          59124,
          99280,
          71776,
          65902,
          57748,
          64057,
          53366,
          58530,
          72609,
          55965,
          70187,
          178000,
          99351,
          67251,
          null,
          52249,
          53171,
          51337,
          null,
          59370,
          54933,
          57815,
          61555,
          114800,
          74679,
          53018,
          59892,
          68898,
          null,
          66825,
          null,
          66149,
          49256,
          62957,
          63813,
          99020,
          71707,
          54828,
          64246,
          52177,
          62065,
          46998,
          68099,
          null,
          63478,
          97999,
          180000,
          49920,
          55425,
          69340,
          64995,
          68182,
          null,
          null,
          61242,
          45069,
          null,
          60436,
          46837,
          105700,
          null,
          61154,
          68999,
          50482,
          65310,
          null,
          54005,
          null,
          46654,
          63973,
          null,
          93206,
          82758,
          66074,
          46120,
          64520,
          null,
          81584,
          63676,
          null,
          64738,
          70468,
          77915,
          52624,
          63450,
          51777,
          67237,
          null,
          52057,
          47434,
          null,
          45395,
          62385,
          68407,
          61349,
          105688,
          null,
          55315,
          62810,
          63291,
          62659,
          55688,
          83667,
          55800,
          58207,
          157000,
          72460,
          72106,
          52599,
          63430,
          null,
          null,
          null,
          null,
          46664,
          48495,
          52984,
          63695,
          62061,
          66738,
          null,
          71966,
          63051,
          47414,
          53060,
          68829,
          63515,
          108987,
          93093,
          53564,
          null,
          45998,
          57954,
          74669,
          74226,
          93554,
          64724,
          47001,
          61844,
          46799,
          59472,
          46430,
          83363,
          95920,
          null,
          61809,
          45115,
          46738,
          64971,
          55578,
          null,
          61422,
          63353,
          89883,
          120000,
          null,
          null,
          53180,
          null,
          null,
          86214,
          47750,
          46428,
          57975,
          null,
          null,
          50923,
          50750,
          52087,
          87826,
          51920,
          63878,
          null,
          72992,
          55000,
          58939,
          66593,
          87565,
          null,
          65714,
          62425,
          47961,
          58273,
          63003,
          61355,
          60120,
          null,
          63025,
          null,
          92989,
          90100,
          null,
          null,
          58370,
          48413,
          null,
          56339,
          64397,
          63025,
          75281,
          100416,
          74813,
          76029,
          57859,
          null,
          null,
          55875,
          null,
          49773,
          null,
          66541,
          80512,
          50274,
          null,
          107226,
          58371,
          55140,
          58062,
          59728,
          70507,
          60446,
          65893,
          48513,
          220450,
          89292,
          45046
         ],
         "yaxis": "y"
        }
       ],
       "layout": {
        "barmode": "relative",
        "legend": {
         "tracegroupgap": 0
        },
        "template": {
         "data": {
          "bar": [
           {
            "error_x": {
             "color": "#2a3f5f"
            },
            "error_y": {
             "color": "#2a3f5f"
            },
            "marker": {
             "line": {
              "color": "#E5ECF6",
              "width": 0.5
             },
             "pattern": {
              "fillmode": "overlay",
              "size": 10,
              "solidity": 0.2
             }
            },
            "type": "bar"
           }
          ],
          "barpolar": [
           {
            "marker": {
             "line": {
              "color": "#E5ECF6",
              "width": 0.5
             },
             "pattern": {
              "fillmode": "overlay",
              "size": 10,
              "solidity": 0.2
             }
            },
            "type": "barpolar"
           }
          ],
          "carpet": [
           {
            "aaxis": {
             "endlinecolor": "#2a3f5f",
             "gridcolor": "white",
             "linecolor": "white",
             "minorgridcolor": "white",
             "startlinecolor": "#2a3f5f"
            },
            "baxis": {
             "endlinecolor": "#2a3f5f",
             "gridcolor": "white",
             "linecolor": "white",
             "minorgridcolor": "white",
             "startlinecolor": "#2a3f5f"
            },
            "type": "carpet"
           }
          ],
          "choropleth": [
           {
            "colorbar": {
             "outlinewidth": 0,
             "ticks": ""
            },
            "type": "choropleth"
           }
          ],
          "contour": [
           {
            "colorbar": {
             "outlinewidth": 0,
             "ticks": ""
            },
            "colorscale": [
             [
              0,
              "#0d0887"
             ],
             [
              0.1111111111111111,
              "#46039f"
             ],
             [
              0.2222222222222222,
              "#7201a8"
             ],
             [
              0.3333333333333333,
              "#9c179e"
             ],
             [
              0.4444444444444444,
              "#bd3786"
             ],
             [
              0.5555555555555556,
              "#d8576b"
             ],
             [
              0.6666666666666666,
              "#ed7953"
             ],
             [
              0.7777777777777778,
              "#fb9f3a"
             ],
             [
              0.8888888888888888,
              "#fdca26"
             ],
             [
              1,
              "#f0f921"
             ]
            ],
            "type": "contour"
           }
          ],
          "contourcarpet": [
           {
            "colorbar": {
             "outlinewidth": 0,
             "ticks": ""
            },
            "type": "contourcarpet"
           }
          ],
          "heatmap": [
           {
            "colorbar": {
             "outlinewidth": 0,
             "ticks": ""
            },
            "colorscale": [
             [
              0,
              "#0d0887"
             ],
             [
              0.1111111111111111,
              "#46039f"
             ],
             [
              0.2222222222222222,
              "#7201a8"
             ],
             [
              0.3333333333333333,
              "#9c179e"
             ],
             [
              0.4444444444444444,
              "#bd3786"
             ],
             [
              0.5555555555555556,
              "#d8576b"
             ],
             [
              0.6666666666666666,
              "#ed7953"
             ],
             [
              0.7777777777777778,
              "#fb9f3a"
             ],
             [
              0.8888888888888888,
              "#fdca26"
             ],
             [
              1,
              "#f0f921"
             ]
            ],
            "type": "heatmap"
           }
          ],
          "heatmapgl": [
           {
            "colorbar": {
             "outlinewidth": 0,
             "ticks": ""
            },
            "colorscale": [
             [
              0,
              "#0d0887"
             ],
             [
              0.1111111111111111,
              "#46039f"
             ],
             [
              0.2222222222222222,
              "#7201a8"
             ],
             [
              0.3333333333333333,
              "#9c179e"
             ],
             [
              0.4444444444444444,
              "#bd3786"
             ],
             [
              0.5555555555555556,
              "#d8576b"
             ],
             [
              0.6666666666666666,
              "#ed7953"
             ],
             [
              0.7777777777777778,
              "#fb9f3a"
             ],
             [
              0.8888888888888888,
              "#fdca26"
             ],
             [
              1,
              "#f0f921"
             ]
            ],
            "type": "heatmapgl"
           }
          ],
          "histogram": [
           {
            "marker": {
             "pattern": {
              "fillmode": "overlay",
              "size": 10,
              "solidity": 0.2
             }
            },
            "type": "histogram"
           }
          ],
          "histogram2d": [
           {
            "colorbar": {
             "outlinewidth": 0,
             "ticks": ""
            },
            "colorscale": [
             [
              0,
              "#0d0887"
             ],
             [
              0.1111111111111111,
              "#46039f"
             ],
             [
              0.2222222222222222,
              "#7201a8"
             ],
             [
              0.3333333333333333,
              "#9c179e"
             ],
             [
              0.4444444444444444,
              "#bd3786"
             ],
             [
              0.5555555555555556,
              "#d8576b"
             ],
             [
              0.6666666666666666,
              "#ed7953"
             ],
             [
              0.7777777777777778,
              "#fb9f3a"
             ],
             [
              0.8888888888888888,
              "#fdca26"
             ],
             [
              1,
              "#f0f921"
             ]
            ],
            "type": "histogram2d"
           }
          ],
          "histogram2dcontour": [
           {
            "colorbar": {
             "outlinewidth": 0,
             "ticks": ""
            },
            "colorscale": [
             [
              0,
              "#0d0887"
             ],
             [
              0.1111111111111111,
              "#46039f"
             ],
             [
              0.2222222222222222,
              "#7201a8"
             ],
             [
              0.3333333333333333,
              "#9c179e"
             ],
             [
              0.4444444444444444,
              "#bd3786"
             ],
             [
              0.5555555555555556,
              "#d8576b"
             ],
             [
              0.6666666666666666,
              "#ed7953"
             ],
             [
              0.7777777777777778,
              "#fb9f3a"
             ],
             [
              0.8888888888888888,
              "#fdca26"
             ],
             [
              1,
              "#f0f921"
             ]
            ],
            "type": "histogram2dcontour"
           }
          ],
          "mesh3d": [
           {
            "colorbar": {
             "outlinewidth": 0,
             "ticks": ""
            },
            "type": "mesh3d"
           }
          ],
          "parcoords": [
           {
            "line": {
             "colorbar": {
              "outlinewidth": 0,
              "ticks": ""
             }
            },
            "type": "parcoords"
           }
          ],
          "pie": [
           {
            "automargin": true,
            "type": "pie"
           }
          ],
          "scatter": [
           {
            "fillpattern": {
             "fillmode": "overlay",
             "size": 10,
             "solidity": 0.2
            },
            "type": "scatter"
           }
          ],
          "scatter3d": [
           {
            "line": {
             "colorbar": {
              "outlinewidth": 0,
              "ticks": ""
             }
            },
            "marker": {
             "colorbar": {
              "outlinewidth": 0,
              "ticks": ""
             }
            },
            "type": "scatter3d"
           }
          ],
          "scattercarpet": [
           {
            "marker": {
             "colorbar": {
              "outlinewidth": 0,
              "ticks": ""
             }
            },
            "type": "scattercarpet"
           }
          ],
          "scattergeo": [
           {
            "marker": {
             "colorbar": {
              "outlinewidth": 0,
              "ticks": ""
             }
            },
            "type": "scattergeo"
           }
          ],
          "scattergl": [
           {
            "marker": {
             "colorbar": {
              "outlinewidth": 0,
              "ticks": ""
             }
            },
            "type": "scattergl"
           }
          ],
          "scattermapbox": [
           {
            "marker": {
             "colorbar": {
              "outlinewidth": 0,
              "ticks": ""
             }
            },
            "type": "scattermapbox"
           }
          ],
          "scatterpolar": [
           {
            "marker": {
             "colorbar": {
              "outlinewidth": 0,
              "ticks": ""
             }
            },
            "type": "scatterpolar"
           }
          ],
          "scatterpolargl": [
           {
            "marker": {
             "colorbar": {
              "outlinewidth": 0,
              "ticks": ""
             }
            },
            "type": "scatterpolargl"
           }
          ],
          "scatterternary": [
           {
            "marker": {
             "colorbar": {
              "outlinewidth": 0,
              "ticks": ""
             }
            },
            "type": "scatterternary"
           }
          ],
          "surface": [
           {
            "colorbar": {
             "outlinewidth": 0,
             "ticks": ""
            },
            "colorscale": [
             [
              0,
              "#0d0887"
             ],
             [
              0.1111111111111111,
              "#46039f"
             ],
             [
              0.2222222222222222,
              "#7201a8"
             ],
             [
              0.3333333333333333,
              "#9c179e"
             ],
             [
              0.4444444444444444,
              "#bd3786"
             ],
             [
              0.5555555555555556,
              "#d8576b"
             ],
             [
              0.6666666666666666,
              "#ed7953"
             ],
             [
              0.7777777777777778,
              "#fb9f3a"
             ],
             [
              0.8888888888888888,
              "#fdca26"
             ],
             [
              1,
              "#f0f921"
             ]
            ],
            "type": "surface"
           }
          ],
          "table": [
           {
            "cells": {
             "fill": {
              "color": "#EBF0F8"
             },
             "line": {
              "color": "white"
             }
            },
            "header": {
             "fill": {
              "color": "#C8D4E3"
             },
             "line": {
              "color": "white"
             }
            },
            "type": "table"
           }
          ]
         },
         "layout": {
          "annotationdefaults": {
           "arrowcolor": "#2a3f5f",
           "arrowhead": 0,
           "arrowwidth": 1
          },
          "autotypenumbers": "strict",
          "coloraxis": {
           "colorbar": {
            "outlinewidth": 0,
            "ticks": ""
           }
          },
          "colorscale": {
           "diverging": [
            [
             0,
             "#8e0152"
            ],
            [
             0.1,
             "#c51b7d"
            ],
            [
             0.2,
             "#de77ae"
            ],
            [
             0.3,
             "#f1b6da"
            ],
            [
             0.4,
             "#fde0ef"
            ],
            [
             0.5,
             "#f7f7f7"
            ],
            [
             0.6,
             "#e6f5d0"
            ],
            [
             0.7,
             "#b8e186"
            ],
            [
             0.8,
             "#7fbc41"
            ],
            [
             0.9,
             "#4d9221"
            ],
            [
             1,
             "#276419"
            ]
           ],
           "sequential": [
            [
             0,
             "#0d0887"
            ],
            [
             0.1111111111111111,
             "#46039f"
            ],
            [
             0.2222222222222222,
             "#7201a8"
            ],
            [
             0.3333333333333333,
             "#9c179e"
            ],
            [
             0.4444444444444444,
             "#bd3786"
            ],
            [
             0.5555555555555556,
             "#d8576b"
            ],
            [
             0.6666666666666666,
             "#ed7953"
            ],
            [
             0.7777777777777778,
             "#fb9f3a"
            ],
            [
             0.8888888888888888,
             "#fdca26"
            ],
            [
             1,
             "#f0f921"
            ]
           ],
           "sequentialminus": [
            [
             0,
             "#0d0887"
            ],
            [
             0.1111111111111111,
             "#46039f"
            ],
            [
             0.2222222222222222,
             "#7201a8"
            ],
            [
             0.3333333333333333,
             "#9c179e"
            ],
            [
             0.4444444444444444,
             "#bd3786"
            ],
            [
             0.5555555555555556,
             "#d8576b"
            ],
            [
             0.6666666666666666,
             "#ed7953"
            ],
            [
             0.7777777777777778,
             "#fb9f3a"
            ],
            [
             0.8888888888888888,
             "#fdca26"
            ],
            [
             1,
             "#f0f921"
            ]
           ]
          },
          "colorway": [
           "#636efa",
           "#EF553B",
           "#00cc96",
           "#ab63fa",
           "#FFA15A",
           "#19d3f3",
           "#FF6692",
           "#B6E880",
           "#FF97FF",
           "#FECB52"
          ],
          "font": {
           "color": "#2a3f5f"
          },
          "geo": {
           "bgcolor": "white",
           "lakecolor": "white",
           "landcolor": "#E5ECF6",
           "showlakes": true,
           "showland": true,
           "subunitcolor": "white"
          },
          "hoverlabel": {
           "align": "left"
          },
          "hovermode": "closest",
          "mapbox": {
           "style": "light"
          },
          "paper_bgcolor": "white",
          "plot_bgcolor": "#E5ECF6",
          "polar": {
           "angularaxis": {
            "gridcolor": "white",
            "linecolor": "white",
            "ticks": ""
           },
           "bgcolor": "#E5ECF6",
           "radialaxis": {
            "gridcolor": "white",
            "linecolor": "white",
            "ticks": ""
           }
          },
          "scene": {
           "xaxis": {
            "backgroundcolor": "#E5ECF6",
            "gridcolor": "white",
            "gridwidth": 2,
            "linecolor": "white",
            "showbackground": true,
            "ticks": "",
            "zerolinecolor": "white"
           },
           "yaxis": {
            "backgroundcolor": "#E5ECF6",
            "gridcolor": "white",
            "gridwidth": 2,
            "linecolor": "white",
            "showbackground": true,
            "ticks": "",
            "zerolinecolor": "white"
           },
           "zaxis": {
            "backgroundcolor": "#E5ECF6",
            "gridcolor": "white",
            "gridwidth": 2,
            "linecolor": "white",
            "showbackground": true,
            "ticks": "",
            "zerolinecolor": "white"
           }
          },
          "shapedefaults": {
           "line": {
            "color": "#2a3f5f"
           }
          },
          "ternary": {
           "aaxis": {
            "gridcolor": "white",
            "linecolor": "white",
            "ticks": ""
           },
           "baxis": {
            "gridcolor": "white",
            "linecolor": "white",
            "ticks": ""
           },
           "bgcolor": "#E5ECF6",
           "caxis": {
            "gridcolor": "white",
            "linecolor": "white",
            "ticks": ""
           }
          },
          "title": {
           "x": 0.05
          },
          "xaxis": {
           "automargin": true,
           "gridcolor": "white",
           "linecolor": "white",
           "ticks": "",
           "title": {
            "standoff": 15
           },
           "zerolinecolor": "white",
           "zerolinewidth": 2
          },
          "yaxis": {
           "automargin": true,
           "gridcolor": "white",
           "linecolor": "white",
           "ticks": "",
           "title": {
            "standoff": 15
           },
           "zerolinecolor": "white",
           "zerolinewidth": 2
          }
         }
        },
        "title": {
         "text": "Average Salary for each department"
        },
        "xaxis": {
         "anchor": "y",
         "domain": [
          0,
          1
         ],
         "title": {
          "text": "Department"
         }
        },
        "yaxis": {
         "anchor": "x",
         "domain": [
          0,
          1
         ],
         "title": {
          "text": "avg of Salary"
         }
        }
       }
      }
     },
     "metadata": {},
     "output_type": "display_data"
    }
   ],
   "source": [
    "#change from count to average\n",
    "hist1 = px.histogram(df, x='Department', y='Salary',title='Average Salary for each department', histfunc='avg')\n",
    "hist1.show()"
   ]
  },
  {
   "cell_type": "code",
   "execution_count": 11,
   "id": "eab9b8d0",
   "metadata": {},
   "outputs": [
    {
     "data": {
      "application/vnd.plotly.v1+json": {
       "config": {
        "plotlyServerURL": "https://plot.ly"
       },
       "data": [
        {
         "alignmentgroup": "True",
         "bingroup": "x",
         "hovertemplate": "Position=Production Technician I<br>Department=%{x}<br>count=%{y}<extra></extra>",
         "legendgroup": "Production Technician I",
         "marker": {
          "color": "#636efa",
          "pattern": {
           "shape": ""
          }
         },
         "name": "Production Technician I",
         "offsetgroup": "Production Technician I",
         "orientation": "v",
         "showlegend": true,
         "type": "histogram",
         "x": [
          "Production       ",
          "Production       ",
          "Production       ",
          "Production       ",
          "Production       ",
          "Production       ",
          "Production       ",
          "Production       ",
          "Production       ",
          "Production       ",
          "Production       ",
          "Production       ",
          "Production       ",
          "Production       ",
          "Production       ",
          "Production       ",
          "Production       ",
          "Production       ",
          "Production       ",
          "Production       ",
          "Production       ",
          "Production       ",
          "Production       ",
          "Production       ",
          "Production       ",
          "Production       ",
          "Production       ",
          "Production       ",
          "Production       ",
          "Production       ",
          "Production       ",
          "Production       ",
          "Production       ",
          "Production       ",
          "Production       ",
          "Production       ",
          "Production       ",
          "Production       ",
          "Production       ",
          "Production       ",
          "Production       ",
          "Production       ",
          "Production       ",
          "Production       ",
          "Production       ",
          "Production       ",
          "Production       ",
          "Production       ",
          "Production       ",
          "Production       ",
          "Production       ",
          "Production       ",
          "Production       ",
          "Production       ",
          "Production       ",
          "Production       ",
          "Production       ",
          "Production       ",
          "Production       ",
          "Production       ",
          "Production       ",
          "Production       ",
          "Production       ",
          "Production       ",
          "Production       ",
          "Production       ",
          "Production       ",
          "Production       ",
          "Production       ",
          "Production       ",
          "Production       ",
          "Production       ",
          "Production       ",
          "Production       ",
          "Production       ",
          "Production       ",
          "Production       ",
          "Production       ",
          "Production       ",
          "Production       ",
          "Production       ",
          "Production       ",
          "Production       ",
          "Production       ",
          "Production       ",
          "Production       ",
          "Production       ",
          "Production       ",
          "Production       ",
          "Production       ",
          "Production       ",
          "Production       ",
          "Production       ",
          "Production       ",
          "Production       ",
          "Production       ",
          "Production       ",
          "Production       ",
          "Production       ",
          "Production       ",
          "Production       ",
          "Production       ",
          "Production       ",
          "Production       ",
          "Production       ",
          "Production       ",
          "Production       ",
          "Production       ",
          "Production       ",
          "Production       ",
          "Production       ",
          "Production       ",
          "Production       ",
          "Production       ",
          "Production       ",
          "Production       ",
          "Production       ",
          "Production       ",
          "Production       ",
          "Production       ",
          "Production       ",
          "Production       ",
          "Production       ",
          "Production       ",
          "Production       ",
          "Production       ",
          "Production       ",
          "Production       ",
          "Production       ",
          "Production       ",
          "Production       ",
          "Production       ",
          "Production       ",
          "Production       ",
          "Production       ",
          "Production       ",
          "Production       "
         ],
         "xaxis": "x",
         "yaxis": "y"
        },
        {
         "alignmentgroup": "True",
         "bingroup": "x",
         "hovertemplate": "Position=Sr. DBA<br>Department=%{x}<br>count=%{y}<extra></extra>",
         "legendgroup": "Sr. DBA",
         "marker": {
          "color": "#EF553B",
          "pattern": {
           "shape": ""
          }
         },
         "name": "Sr. DBA",
         "offsetgroup": "Sr. DBA",
         "orientation": "v",
         "showlegend": true,
         "type": "histogram",
         "x": [
          "IT/IS",
          "IT/IS"
         ],
         "xaxis": "x",
         "yaxis": "y"
        },
        {
         "alignmentgroup": "True",
         "bingroup": "x",
         "hovertemplate": "Position=Production Technician II<br>Department=%{x}<br>count=%{y}<extra></extra>",
         "legendgroup": "Production Technician II",
         "marker": {
          "color": "#00cc96",
          "pattern": {
           "shape": ""
          }
         },
         "name": "Production Technician II",
         "offsetgroup": "Production Technician II",
         "orientation": "v",
         "showlegend": true,
         "type": "histogram",
         "x": [
          "Production       ",
          "Production       ",
          "Production       ",
          "Production       ",
          "Production       ",
          "Production       ",
          "Production       ",
          "Production       ",
          "Production       ",
          "Production       ",
          "Production       ",
          "Production       ",
          "Production       ",
          "Production       ",
          "Production       ",
          "Production       ",
          "Production       ",
          "Production       ",
          "Production       ",
          "Production       ",
          "Production       ",
          "Production       ",
          "Production       ",
          "Production       ",
          "Production       ",
          "Production       ",
          "Production       ",
          "Production       ",
          "Production       ",
          "Production       ",
          "Production       ",
          "Production       ",
          "Production       ",
          "Production       ",
          "Production       ",
          "Production       ",
          "Production       ",
          "Production       ",
          "Production       ",
          "Production       ",
          "Production       ",
          "Production       ",
          "Production       ",
          "Production       ",
          "Production       ",
          "Production       ",
          "Production       ",
          "Production       ",
          "Production       ",
          "Production       ",
          "Production       ",
          "Production       ",
          "Production       ",
          "Production       ",
          "Production       ",
          "Production       ",
          "Production       "
         ],
         "xaxis": "x",
         "yaxis": "y"
        },
        {
         "alignmentgroup": "True",
         "bingroup": "x",
         "hovertemplate": "Position=Software Engineer<br>Department=%{x}<br>count=%{y}<extra></extra>",
         "legendgroup": "Software Engineer",
         "marker": {
          "color": "#ab63fa",
          "pattern": {
           "shape": ""
          }
         },
         "name": "Software Engineer",
         "offsetgroup": "Software Engineer",
         "orientation": "v",
         "showlegend": true,
         "type": "histogram",
         "x": [
          "Software Engineering",
          "Software Engineering",
          "Software Engineering",
          "Software Engineering",
          "Software Engineering",
          "Software Engineering",
          "Software Engineering",
          "Software Engineering",
          "Software Engineering",
          "Software Engineering"
         ],
         "xaxis": "x",
         "yaxis": "y"
        },
        {
         "alignmentgroup": "True",
         "bingroup": "x",
         "hovertemplate": "Position=IT Support<br>Department=%{x}<br>count=%{y}<extra></extra>",
         "legendgroup": "IT Support",
         "marker": {
          "color": "#FFA15A",
          "pattern": {
           "shape": ""
          }
         },
         "name": "IT Support",
         "offsetgroup": "IT Support",
         "orientation": "v",
         "showlegend": true,
         "type": "histogram",
         "x": [
          "IT/IS",
          "IT/IS",
          "IT/IS",
          "IT/IS",
          "IT/IS",
          "IT/IS",
          "IT/IS",
          "IT/IS"
         ],
         "xaxis": "x",
         "yaxis": "y"
        },
        {
         "alignmentgroup": "True",
         "bingroup": "x",
         "hovertemplate": "Position=Data Analyst<br>Department=%{x}<br>count=%{y}<extra></extra>",
         "legendgroup": "Data Analyst",
         "marker": {
          "color": "#19d3f3",
          "pattern": {
           "shape": ""
          }
         },
         "name": "Data Analyst",
         "offsetgroup": "Data Analyst",
         "orientation": "v",
         "showlegend": true,
         "type": "histogram",
         "x": [
          "IT/IS",
          "IT/IS",
          "IT/IS",
          "IT/IS",
          "IT/IS",
          "IT/IS",
          "IT/IS"
         ],
         "xaxis": "x",
         "yaxis": "y"
        },
        {
         "alignmentgroup": "True",
         "bingroup": "x",
         "hovertemplate": "Position=Database Administrator<br>Department=%{x}<br>count=%{y}<extra></extra>",
         "legendgroup": "Database Administrator",
         "marker": {
          "color": "#FF6692",
          "pattern": {
           "shape": ""
          }
         },
         "name": "Database Administrator",
         "offsetgroup": "Database Administrator",
         "orientation": "v",
         "showlegend": true,
         "type": "histogram",
         "x": [
          "IT/IS",
          "IT/IS",
          "IT/IS",
          "IT/IS",
          "IT/IS"
         ],
         "xaxis": "x",
         "yaxis": "y"
        },
        {
         "alignmentgroup": "True",
         "bingroup": "x",
         "hovertemplate": "Position=Enterprise Architect<br>Department=%{x}<br>count=%{y}<extra></extra>",
         "legendgroup": "Enterprise Architect",
         "marker": {
          "color": "#B6E880",
          "pattern": {
           "shape": ""
          }
         },
         "name": "Enterprise Architect",
         "offsetgroup": "Enterprise Architect",
         "orientation": "v",
         "showlegend": true,
         "type": "histogram",
         "x": [
          "IT/IS"
         ],
         "xaxis": "x",
         "yaxis": "y"
        },
        {
         "alignmentgroup": "True",
         "bingroup": "x",
         "hovertemplate": "Position=Sr. Accountant<br>Department=%{x}<br>count=%{y}<extra></extra>",
         "legendgroup": "Sr. Accountant",
         "marker": {
          "color": "#FF97FF",
          "pattern": {
           "shape": ""
          }
         },
         "name": "Sr. Accountant",
         "offsetgroup": "Sr. Accountant",
         "orientation": "v",
         "showlegend": true,
         "type": "histogram",
         "x": [
          "Admin Offices",
          "Admin Offices"
         ],
         "xaxis": "x",
         "yaxis": "y"
        },
        {
         "alignmentgroup": "True",
         "bingroup": "x",
         "hovertemplate": "Position=Production Manager<br>Department=%{x}<br>count=%{y}<extra></extra>",
         "legendgroup": "Production Manager",
         "marker": {
          "color": "#FECB52",
          "pattern": {
           "shape": ""
          }
         },
         "name": "Production Manager",
         "offsetgroup": "Production Manager",
         "orientation": "v",
         "showlegend": true,
         "type": "histogram",
         "x": [
          "Production       ",
          "Production       ",
          "Production       ",
          "Production       ",
          "Production       ",
          "Production       ",
          "Production       ",
          "Production       ",
          "Production       ",
          "Production       ",
          "Production       ",
          "Production       ",
          "Production       ",
          "Production       "
         ],
         "xaxis": "x",
         "yaxis": "y"
        },
        {
         "alignmentgroup": "True",
         "bingroup": "x",
         "hovertemplate": "Position=Accountant I<br>Department=%{x}<br>count=%{y}<extra></extra>",
         "legendgroup": "Accountant I",
         "marker": {
          "color": "#636efa",
          "pattern": {
           "shape": ""
          }
         },
         "name": "Accountant I",
         "offsetgroup": "Accountant I",
         "orientation": "v",
         "showlegend": true,
         "type": "histogram",
         "x": [
          "Admin Offices",
          "Admin Offices",
          "Admin Offices"
         ],
         "xaxis": "x",
         "yaxis": "y"
        },
        {
         "alignmentgroup": "True",
         "bingroup": "x",
         "hovertemplate": "Position=Area Sales Manager<br>Department=%{x}<br>count=%{y}<extra></extra>",
         "legendgroup": "Area Sales Manager",
         "marker": {
          "color": "#EF553B",
          "pattern": {
           "shape": ""
          }
         },
         "name": "Area Sales Manager",
         "offsetgroup": "Area Sales Manager",
         "orientation": "v",
         "showlegend": true,
         "type": "histogram",
         "x": [
          "Sales",
          "Sales",
          "Sales",
          "Sales",
          "Sales",
          "Sales",
          "Sales",
          "Sales",
          "Sales",
          "Sales",
          "Sales",
          "Sales",
          "Sales",
          "Sales",
          "Sales",
          "Sales",
          "Sales",
          "Sales",
          "Sales",
          "Sales",
          "Sales",
          "Sales",
          "Sales",
          "Sales",
          "Sales",
          "Sales",
          "Sales"
         ],
         "xaxis": "x",
         "yaxis": "y"
        },
        {
         "alignmentgroup": "True",
         "bingroup": "x",
         "hovertemplate": "Position=Software Engineering Manager<br>Department=%{x}<br>count=%{y}<extra></extra>",
         "legendgroup": "Software Engineering Manager",
         "marker": {
          "color": "#00cc96",
          "pattern": {
           "shape": ""
          }
         },
         "name": "Software Engineering Manager",
         "offsetgroup": "Software Engineering Manager",
         "orientation": "v",
         "showlegend": true,
         "type": "histogram",
         "x": [
          "Software Engineering"
         ],
         "xaxis": "x",
         "yaxis": "y"
        },
        {
         "alignmentgroup": "True",
         "bingroup": "x",
         "hovertemplate": "Position=BI Director<br>Department=%{x}<br>count=%{y}<extra></extra>",
         "legendgroup": "BI Director",
         "marker": {
          "color": "#ab63fa",
          "pattern": {
           "shape": ""
          }
         },
         "name": "BI Director",
         "offsetgroup": "BI Director",
         "orientation": "v",
         "showlegend": true,
         "type": "histogram",
         "x": [
          "IT/IS"
         ],
         "xaxis": "x",
         "yaxis": "y"
        },
        {
         "alignmentgroup": "True",
         "bingroup": "x",
         "hovertemplate": "Position=Director of Operations<br>Department=%{x}<br>count=%{y}<extra></extra>",
         "legendgroup": "Director of Operations",
         "marker": {
          "color": "#FFA15A",
          "pattern": {
           "shape": ""
          }
         },
         "name": "Director of Operations",
         "offsetgroup": "Director of Operations",
         "orientation": "v",
         "showlegend": true,
         "type": "histogram",
         "x": [
          "Production       "
         ],
         "xaxis": "x",
         "yaxis": "y"
        },
        {
         "alignmentgroup": "True",
         "bingroup": "x",
         "hovertemplate": "Position=Sr. Network Engineer<br>Department=%{x}<br>count=%{y}<extra></extra>",
         "legendgroup": "Sr. Network Engineer",
         "marker": {
          "color": "#19d3f3",
          "pattern": {
           "shape": ""
          }
         },
         "name": "Sr. Network Engineer",
         "offsetgroup": "Sr. Network Engineer",
         "orientation": "v",
         "showlegend": true,
         "type": "histogram",
         "x": [
          "IT/IS",
          "IT/IS",
          "IT/IS",
          "IT/IS",
          "IT/IS"
         ],
         "xaxis": "x",
         "yaxis": "y"
        },
        {
         "alignmentgroup": "True",
         "bingroup": "x",
         "hovertemplate": "Position=Sales Manager<br>Department=%{x}<br>count=%{y}<extra></extra>",
         "legendgroup": "Sales Manager",
         "marker": {
          "color": "#FF6692",
          "pattern": {
           "shape": ""
          }
         },
         "name": "Sales Manager",
         "offsetgroup": "Sales Manager",
         "orientation": "v",
         "showlegend": true,
         "type": "histogram",
         "x": [
          "Sales",
          "Sales",
          "Sales"
         ],
         "xaxis": "x",
         "yaxis": "y"
        },
        {
         "alignmentgroup": "True",
         "bingroup": "x",
         "hovertemplate": "Position=BI Developer<br>Department=%{x}<br>count=%{y}<extra></extra>",
         "legendgroup": "BI Developer",
         "marker": {
          "color": "#B6E880",
          "pattern": {
           "shape": ""
          }
         },
         "name": "BI Developer",
         "offsetgroup": "BI Developer",
         "orientation": "v",
         "showlegend": true,
         "type": "histogram",
         "x": [
          "IT/IS",
          "IT/IS",
          "IT/IS",
          "IT/IS"
         ],
         "xaxis": "x",
         "yaxis": "y"
        },
        {
         "alignmentgroup": "True",
         "bingroup": "x",
         "hovertemplate": "Position=IT Manager - Support<br>Department=%{x}<br>count=%{y}<extra></extra>",
         "legendgroup": "IT Manager - Support",
         "marker": {
          "color": "#FF97FF",
          "pattern": {
           "shape": ""
          }
         },
         "name": "IT Manager - Support",
         "offsetgroup": "IT Manager - Support",
         "orientation": "v",
         "showlegend": true,
         "type": "histogram",
         "x": [
          "IT/IS"
         ],
         "xaxis": "x",
         "yaxis": "y"
        },
        {
         "alignmentgroup": "True",
         "bingroup": "x",
         "hovertemplate": "Position=Network Engineer<br>Department=%{x}<br>count=%{y}<extra></extra>",
         "legendgroup": "Network Engineer",
         "marker": {
          "color": "#FECB52",
          "pattern": {
           "shape": ""
          }
         },
         "name": "Network Engineer",
         "offsetgroup": "Network Engineer",
         "orientation": "v",
         "showlegend": true,
         "type": "histogram",
         "x": [
          "IT/IS",
          "IT/IS",
          "IT/IS",
          "IT/IS",
          "IT/IS"
         ],
         "xaxis": "x",
         "yaxis": "y"
        },
        {
         "alignmentgroup": "True",
         "bingroup": "x",
         "hovertemplate": "Position=IT Director<br>Department=%{x}<br>count=%{y}<extra></extra>",
         "legendgroup": "IT Director",
         "marker": {
          "color": "#636efa",
          "pattern": {
           "shape": ""
          }
         },
         "name": "IT Director",
         "offsetgroup": "IT Director",
         "orientation": "v",
         "showlegend": true,
         "type": "histogram",
         "x": [
          "IT/IS"
         ],
         "xaxis": "x",
         "yaxis": "y"
        },
        {
         "alignmentgroup": "True",
         "bingroup": "x",
         "hovertemplate": "Position=Director of Sales<br>Department=%{x}<br>count=%{y}<extra></extra>",
         "legendgroup": "Director of Sales",
         "marker": {
          "color": "#EF553B",
          "pattern": {
           "shape": ""
          }
         },
         "name": "Director of Sales",
         "offsetgroup": "Director of Sales",
         "orientation": "v",
         "showlegend": true,
         "type": "histogram",
         "x": [
          "Sales"
         ],
         "xaxis": "x",
         "yaxis": "y"
        },
        {
         "alignmentgroup": "True",
         "bingroup": "x",
         "hovertemplate": "Position=Administrative Assistant<br>Department=%{x}<br>count=%{y}<extra></extra>",
         "legendgroup": "Administrative Assistant",
         "marker": {
          "color": "#00cc96",
          "pattern": {
           "shape": ""
          }
         },
         "name": "Administrative Assistant",
         "offsetgroup": "Administrative Assistant",
         "orientation": "v",
         "showlegend": true,
         "type": "histogram",
         "x": [
          "Admin Offices",
          "Admin Offices",
          "Admin Offices"
         ],
         "xaxis": "x",
         "yaxis": "y"
        },
        {
         "alignmentgroup": "True",
         "bingroup": "x",
         "hovertemplate": "Position=President & CEO<br>Department=%{x}<br>count=%{y}<extra></extra>",
         "legendgroup": "President & CEO",
         "marker": {
          "color": "#ab63fa",
          "pattern": {
           "shape": ""
          }
         },
         "name": "President & CEO",
         "offsetgroup": "President & CEO",
         "orientation": "v",
         "showlegend": true,
         "type": "histogram",
         "x": [
          "Executive Office"
         ],
         "xaxis": "x",
         "yaxis": "y"
        },
        {
         "alignmentgroup": "True",
         "bingroup": "x",
         "hovertemplate": "Position=Senior BI Developer<br>Department=%{x}<br>count=%{y}<extra></extra>",
         "legendgroup": "Senior BI Developer",
         "marker": {
          "color": "#FFA15A",
          "pattern": {
           "shape": ""
          }
         },
         "name": "Senior BI Developer",
         "offsetgroup": "Senior BI Developer",
         "orientation": "v",
         "showlegend": true,
         "type": "histogram",
         "x": [
          "IT/IS",
          "IT/IS",
          "IT/IS"
         ],
         "xaxis": "x",
         "yaxis": "y"
        },
        {
         "alignmentgroup": "True",
         "bingroup": "x",
         "hovertemplate": "Position=Shared Services Manager<br>Department=%{x}<br>count=%{y}<extra></extra>",
         "legendgroup": "Shared Services Manager",
         "marker": {
          "color": "#19d3f3",
          "pattern": {
           "shape": ""
          }
         },
         "name": "Shared Services Manager",
         "offsetgroup": "Shared Services Manager",
         "orientation": "v",
         "showlegend": true,
         "type": "histogram",
         "x": [
          "Admin Offices"
         ],
         "xaxis": "x",
         "yaxis": "y"
        },
        {
         "alignmentgroup": "True",
         "bingroup": "x",
         "hovertemplate": "Position=IT Manager - Infra<br>Department=%{x}<br>count=%{y}<extra></extra>",
         "legendgroup": "IT Manager - Infra",
         "marker": {
          "color": "#FF6692",
          "pattern": {
           "shape": ""
          }
         },
         "name": "IT Manager - Infra",
         "offsetgroup": "IT Manager - Infra",
         "orientation": "v",
         "showlegend": true,
         "type": "histogram",
         "x": [
          "IT/IS"
         ],
         "xaxis": "x",
         "yaxis": "y"
        },
        {
         "alignmentgroup": "True",
         "bingroup": "x",
         "hovertemplate": "Position=Principal Data Architect<br>Department=%{x}<br>count=%{y}<extra></extra>",
         "legendgroup": "Principal Data Architect",
         "marker": {
          "color": "#B6E880",
          "pattern": {
           "shape": ""
          }
         },
         "name": "Principal Data Architect",
         "offsetgroup": "Principal Data Architect",
         "orientation": "v",
         "showlegend": true,
         "type": "histogram",
         "x": [
          "IT/IS"
         ],
         "xaxis": "x",
         "yaxis": "y"
        },
        {
         "alignmentgroup": "True",
         "bingroup": "x",
         "hovertemplate": "Position=Data Architect<br>Department=%{x}<br>count=%{y}<extra></extra>",
         "legendgroup": "Data Architect",
         "marker": {
          "color": "#FF97FF",
          "pattern": {
           "shape": ""
          }
         },
         "name": "Data Architect",
         "offsetgroup": "Data Architect",
         "orientation": "v",
         "showlegend": true,
         "type": "histogram",
         "x": [
          "IT/IS"
         ],
         "xaxis": "x",
         "yaxis": "y"
        },
        {
         "alignmentgroup": "True",
         "bingroup": "x",
         "hovertemplate": "Position=IT Manager - DB<br>Department=%{x}<br>count=%{y}<extra></extra>",
         "legendgroup": "IT Manager - DB",
         "marker": {
          "color": "#FECB52",
          "pattern": {
           "shape": ""
          }
         },
         "name": "IT Manager - DB",
         "offsetgroup": "IT Manager - DB",
         "orientation": "v",
         "showlegend": true,
         "type": "histogram",
         "x": [
          "IT/IS",
          "IT/IS"
         ],
         "xaxis": "x",
         "yaxis": "y"
        },
        {
         "alignmentgroup": "True",
         "bingroup": "x",
         "hovertemplate": "Position=Data Analyst <br>Department=%{x}<br>count=%{y}<extra></extra>",
         "legendgroup": "Data Analyst ",
         "marker": {
          "color": "#636efa",
          "pattern": {
           "shape": ""
          }
         },
         "name": "Data Analyst ",
         "offsetgroup": "Data Analyst ",
         "orientation": "v",
         "showlegend": true,
         "type": "histogram",
         "x": [
          "IT/IS"
         ],
         "xaxis": "x",
         "yaxis": "y"
        },
        {
         "alignmentgroup": "True",
         "bingroup": "x",
         "hovertemplate": "Position=CIO<br>Department=%{x}<br>count=%{y}<extra></extra>",
         "legendgroup": "CIO",
         "marker": {
          "color": "#EF553B",
          "pattern": {
           "shape": ""
          }
         },
         "name": "CIO",
         "offsetgroup": "CIO",
         "orientation": "v",
         "showlegend": true,
         "type": "histogram",
         "x": [
          "IT/IS"
         ],
         "xaxis": "x",
         "yaxis": "y"
        }
       ],
       "layout": {
        "barmode": "relative",
        "legend": {
         "title": {
          "text": "Position"
         },
         "tracegroupgap": 0
        },
        "template": {
         "data": {
          "bar": [
           {
            "error_x": {
             "color": "#2a3f5f"
            },
            "error_y": {
             "color": "#2a3f5f"
            },
            "marker": {
             "line": {
              "color": "#E5ECF6",
              "width": 0.5
             },
             "pattern": {
              "fillmode": "overlay",
              "size": 10,
              "solidity": 0.2
             }
            },
            "type": "bar"
           }
          ],
          "barpolar": [
           {
            "marker": {
             "line": {
              "color": "#E5ECF6",
              "width": 0.5
             },
             "pattern": {
              "fillmode": "overlay",
              "size": 10,
              "solidity": 0.2
             }
            },
            "type": "barpolar"
           }
          ],
          "carpet": [
           {
            "aaxis": {
             "endlinecolor": "#2a3f5f",
             "gridcolor": "white",
             "linecolor": "white",
             "minorgridcolor": "white",
             "startlinecolor": "#2a3f5f"
            },
            "baxis": {
             "endlinecolor": "#2a3f5f",
             "gridcolor": "white",
             "linecolor": "white",
             "minorgridcolor": "white",
             "startlinecolor": "#2a3f5f"
            },
            "type": "carpet"
           }
          ],
          "choropleth": [
           {
            "colorbar": {
             "outlinewidth": 0,
             "ticks": ""
            },
            "type": "choropleth"
           }
          ],
          "contour": [
           {
            "colorbar": {
             "outlinewidth": 0,
             "ticks": ""
            },
            "colorscale": [
             [
              0,
              "#0d0887"
             ],
             [
              0.1111111111111111,
              "#46039f"
             ],
             [
              0.2222222222222222,
              "#7201a8"
             ],
             [
              0.3333333333333333,
              "#9c179e"
             ],
             [
              0.4444444444444444,
              "#bd3786"
             ],
             [
              0.5555555555555556,
              "#d8576b"
             ],
             [
              0.6666666666666666,
              "#ed7953"
             ],
             [
              0.7777777777777778,
              "#fb9f3a"
             ],
             [
              0.8888888888888888,
              "#fdca26"
             ],
             [
              1,
              "#f0f921"
             ]
            ],
            "type": "contour"
           }
          ],
          "contourcarpet": [
           {
            "colorbar": {
             "outlinewidth": 0,
             "ticks": ""
            },
            "type": "contourcarpet"
           }
          ],
          "heatmap": [
           {
            "colorbar": {
             "outlinewidth": 0,
             "ticks": ""
            },
            "colorscale": [
             [
              0,
              "#0d0887"
             ],
             [
              0.1111111111111111,
              "#46039f"
             ],
             [
              0.2222222222222222,
              "#7201a8"
             ],
             [
              0.3333333333333333,
              "#9c179e"
             ],
             [
              0.4444444444444444,
              "#bd3786"
             ],
             [
              0.5555555555555556,
              "#d8576b"
             ],
             [
              0.6666666666666666,
              "#ed7953"
             ],
             [
              0.7777777777777778,
              "#fb9f3a"
             ],
             [
              0.8888888888888888,
              "#fdca26"
             ],
             [
              1,
              "#f0f921"
             ]
            ],
            "type": "heatmap"
           }
          ],
          "heatmapgl": [
           {
            "colorbar": {
             "outlinewidth": 0,
             "ticks": ""
            },
            "colorscale": [
             [
              0,
              "#0d0887"
             ],
             [
              0.1111111111111111,
              "#46039f"
             ],
             [
              0.2222222222222222,
              "#7201a8"
             ],
             [
              0.3333333333333333,
              "#9c179e"
             ],
             [
              0.4444444444444444,
              "#bd3786"
             ],
             [
              0.5555555555555556,
              "#d8576b"
             ],
             [
              0.6666666666666666,
              "#ed7953"
             ],
             [
              0.7777777777777778,
              "#fb9f3a"
             ],
             [
              0.8888888888888888,
              "#fdca26"
             ],
             [
              1,
              "#f0f921"
             ]
            ],
            "type": "heatmapgl"
           }
          ],
          "histogram": [
           {
            "marker": {
             "pattern": {
              "fillmode": "overlay",
              "size": 10,
              "solidity": 0.2
             }
            },
            "type": "histogram"
           }
          ],
          "histogram2d": [
           {
            "colorbar": {
             "outlinewidth": 0,
             "ticks": ""
            },
            "colorscale": [
             [
              0,
              "#0d0887"
             ],
             [
              0.1111111111111111,
              "#46039f"
             ],
             [
              0.2222222222222222,
              "#7201a8"
             ],
             [
              0.3333333333333333,
              "#9c179e"
             ],
             [
              0.4444444444444444,
              "#bd3786"
             ],
             [
              0.5555555555555556,
              "#d8576b"
             ],
             [
              0.6666666666666666,
              "#ed7953"
             ],
             [
              0.7777777777777778,
              "#fb9f3a"
             ],
             [
              0.8888888888888888,
              "#fdca26"
             ],
             [
              1,
              "#f0f921"
             ]
            ],
            "type": "histogram2d"
           }
          ],
          "histogram2dcontour": [
           {
            "colorbar": {
             "outlinewidth": 0,
             "ticks": ""
            },
            "colorscale": [
             [
              0,
              "#0d0887"
             ],
             [
              0.1111111111111111,
              "#46039f"
             ],
             [
              0.2222222222222222,
              "#7201a8"
             ],
             [
              0.3333333333333333,
              "#9c179e"
             ],
             [
              0.4444444444444444,
              "#bd3786"
             ],
             [
              0.5555555555555556,
              "#d8576b"
             ],
             [
              0.6666666666666666,
              "#ed7953"
             ],
             [
              0.7777777777777778,
              "#fb9f3a"
             ],
             [
              0.8888888888888888,
              "#fdca26"
             ],
             [
              1,
              "#f0f921"
             ]
            ],
            "type": "histogram2dcontour"
           }
          ],
          "mesh3d": [
           {
            "colorbar": {
             "outlinewidth": 0,
             "ticks": ""
            },
            "type": "mesh3d"
           }
          ],
          "parcoords": [
           {
            "line": {
             "colorbar": {
              "outlinewidth": 0,
              "ticks": ""
             }
            },
            "type": "parcoords"
           }
          ],
          "pie": [
           {
            "automargin": true,
            "type": "pie"
           }
          ],
          "scatter": [
           {
            "fillpattern": {
             "fillmode": "overlay",
             "size": 10,
             "solidity": 0.2
            },
            "type": "scatter"
           }
          ],
          "scatter3d": [
           {
            "line": {
             "colorbar": {
              "outlinewidth": 0,
              "ticks": ""
             }
            },
            "marker": {
             "colorbar": {
              "outlinewidth": 0,
              "ticks": ""
             }
            },
            "type": "scatter3d"
           }
          ],
          "scattercarpet": [
           {
            "marker": {
             "colorbar": {
              "outlinewidth": 0,
              "ticks": ""
             }
            },
            "type": "scattercarpet"
           }
          ],
          "scattergeo": [
           {
            "marker": {
             "colorbar": {
              "outlinewidth": 0,
              "ticks": ""
             }
            },
            "type": "scattergeo"
           }
          ],
          "scattergl": [
           {
            "marker": {
             "colorbar": {
              "outlinewidth": 0,
              "ticks": ""
             }
            },
            "type": "scattergl"
           }
          ],
          "scattermapbox": [
           {
            "marker": {
             "colorbar": {
              "outlinewidth": 0,
              "ticks": ""
             }
            },
            "type": "scattermapbox"
           }
          ],
          "scatterpolar": [
           {
            "marker": {
             "colorbar": {
              "outlinewidth": 0,
              "ticks": ""
             }
            },
            "type": "scatterpolar"
           }
          ],
          "scatterpolargl": [
           {
            "marker": {
             "colorbar": {
              "outlinewidth": 0,
              "ticks": ""
             }
            },
            "type": "scatterpolargl"
           }
          ],
          "scatterternary": [
           {
            "marker": {
             "colorbar": {
              "outlinewidth": 0,
              "ticks": ""
             }
            },
            "type": "scatterternary"
           }
          ],
          "surface": [
           {
            "colorbar": {
             "outlinewidth": 0,
             "ticks": ""
            },
            "colorscale": [
             [
              0,
              "#0d0887"
             ],
             [
              0.1111111111111111,
              "#46039f"
             ],
             [
              0.2222222222222222,
              "#7201a8"
             ],
             [
              0.3333333333333333,
              "#9c179e"
             ],
             [
              0.4444444444444444,
              "#bd3786"
             ],
             [
              0.5555555555555556,
              "#d8576b"
             ],
             [
              0.6666666666666666,
              "#ed7953"
             ],
             [
              0.7777777777777778,
              "#fb9f3a"
             ],
             [
              0.8888888888888888,
              "#fdca26"
             ],
             [
              1,
              "#f0f921"
             ]
            ],
            "type": "surface"
           }
          ],
          "table": [
           {
            "cells": {
             "fill": {
              "color": "#EBF0F8"
             },
             "line": {
              "color": "white"
             }
            },
            "header": {
             "fill": {
              "color": "#C8D4E3"
             },
             "line": {
              "color": "white"
             }
            },
            "type": "table"
           }
          ]
         },
         "layout": {
          "annotationdefaults": {
           "arrowcolor": "#2a3f5f",
           "arrowhead": 0,
           "arrowwidth": 1
          },
          "autotypenumbers": "strict",
          "coloraxis": {
           "colorbar": {
            "outlinewidth": 0,
            "ticks": ""
           }
          },
          "colorscale": {
           "diverging": [
            [
             0,
             "#8e0152"
            ],
            [
             0.1,
             "#c51b7d"
            ],
            [
             0.2,
             "#de77ae"
            ],
            [
             0.3,
             "#f1b6da"
            ],
            [
             0.4,
             "#fde0ef"
            ],
            [
             0.5,
             "#f7f7f7"
            ],
            [
             0.6,
             "#e6f5d0"
            ],
            [
             0.7,
             "#b8e186"
            ],
            [
             0.8,
             "#7fbc41"
            ],
            [
             0.9,
             "#4d9221"
            ],
            [
             1,
             "#276419"
            ]
           ],
           "sequential": [
            [
             0,
             "#0d0887"
            ],
            [
             0.1111111111111111,
             "#46039f"
            ],
            [
             0.2222222222222222,
             "#7201a8"
            ],
            [
             0.3333333333333333,
             "#9c179e"
            ],
            [
             0.4444444444444444,
             "#bd3786"
            ],
            [
             0.5555555555555556,
             "#d8576b"
            ],
            [
             0.6666666666666666,
             "#ed7953"
            ],
            [
             0.7777777777777778,
             "#fb9f3a"
            ],
            [
             0.8888888888888888,
             "#fdca26"
            ],
            [
             1,
             "#f0f921"
            ]
           ],
           "sequentialminus": [
            [
             0,
             "#0d0887"
            ],
            [
             0.1111111111111111,
             "#46039f"
            ],
            [
             0.2222222222222222,
             "#7201a8"
            ],
            [
             0.3333333333333333,
             "#9c179e"
            ],
            [
             0.4444444444444444,
             "#bd3786"
            ],
            [
             0.5555555555555556,
             "#d8576b"
            ],
            [
             0.6666666666666666,
             "#ed7953"
            ],
            [
             0.7777777777777778,
             "#fb9f3a"
            ],
            [
             0.8888888888888888,
             "#fdca26"
            ],
            [
             1,
             "#f0f921"
            ]
           ]
          },
          "colorway": [
           "#636efa",
           "#EF553B",
           "#00cc96",
           "#ab63fa",
           "#FFA15A",
           "#19d3f3",
           "#FF6692",
           "#B6E880",
           "#FF97FF",
           "#FECB52"
          ],
          "font": {
           "color": "#2a3f5f"
          },
          "geo": {
           "bgcolor": "white",
           "lakecolor": "white",
           "landcolor": "#E5ECF6",
           "showlakes": true,
           "showland": true,
           "subunitcolor": "white"
          },
          "hoverlabel": {
           "align": "left"
          },
          "hovermode": "closest",
          "mapbox": {
           "style": "light"
          },
          "paper_bgcolor": "white",
          "plot_bgcolor": "#E5ECF6",
          "polar": {
           "angularaxis": {
            "gridcolor": "white",
            "linecolor": "white",
            "ticks": ""
           },
           "bgcolor": "#E5ECF6",
           "radialaxis": {
            "gridcolor": "white",
            "linecolor": "white",
            "ticks": ""
           }
          },
          "scene": {
           "xaxis": {
            "backgroundcolor": "#E5ECF6",
            "gridcolor": "white",
            "gridwidth": 2,
            "linecolor": "white",
            "showbackground": true,
            "ticks": "",
            "zerolinecolor": "white"
           },
           "yaxis": {
            "backgroundcolor": "#E5ECF6",
            "gridcolor": "white",
            "gridwidth": 2,
            "linecolor": "white",
            "showbackground": true,
            "ticks": "",
            "zerolinecolor": "white"
           },
           "zaxis": {
            "backgroundcolor": "#E5ECF6",
            "gridcolor": "white",
            "gridwidth": 2,
            "linecolor": "white",
            "showbackground": true,
            "ticks": "",
            "zerolinecolor": "white"
           }
          },
          "shapedefaults": {
           "line": {
            "color": "#2a3f5f"
           }
          },
          "ternary": {
           "aaxis": {
            "gridcolor": "white",
            "linecolor": "white",
            "ticks": ""
           },
           "baxis": {
            "gridcolor": "white",
            "linecolor": "white",
            "ticks": ""
           },
           "bgcolor": "#E5ECF6",
           "caxis": {
            "gridcolor": "white",
            "linecolor": "white",
            "ticks": ""
           }
          },
          "title": {
           "x": 0.05
          },
          "xaxis": {
           "automargin": true,
           "gridcolor": "white",
           "linecolor": "white",
           "ticks": "",
           "title": {
            "standoff": 15
           },
           "zerolinecolor": "white",
           "zerolinewidth": 2
          },
          "yaxis": {
           "automargin": true,
           "gridcolor": "white",
           "linecolor": "white",
           "ticks": "",
           "title": {
            "standoff": 15
           },
           "zerolinecolor": "white",
           "zerolinewidth": 2
          }
         }
        },
        "title": {
         "text": "Department vs Position"
        },
        "xaxis": {
         "anchor": "y",
         "domain": [
          0,
          1
         ],
         "title": {
          "text": "Department"
         }
        },
        "yaxis": {
         "anchor": "x",
         "domain": [
          0,
          1
         ],
         "title": {
          "text": "count"
         }
        }
       }
      }
     },
     "metadata": {},
     "output_type": "display_data"
    }
   ],
   "source": [
    "hist = px.histogram(df, x='Department', color='Position', title='Department vs Position')\n",
    "hist.show()"
   ]
  },
  {
   "cell_type": "code",
   "execution_count": 12,
   "id": "fa98e6b8",
   "metadata": {},
   "outputs": [
    {
     "data": {
      "image/png": "[encoded data removed]",
      "text/plain": [
       "<Figure size 640x480 with 1 Axes>"
      ]
     },
     "metadata": {},
     "output_type": "display_data"
    }
   ],
   "source": [
    "# problem with processing the DOB column\n",
    "# it transfored the dates before 70 to 2070 not 1970\n",
    "\n",
    "#df.drop(df[df['DOB'].isnull()].index, axis=0, inplace=True)\n",
    "df['DOB'] = pd.to_datetime(df['DOB'], format='%m/%d/%y')\n",
    "mask = df['DOB'].dt.year >= 2023\n",
    "df.loc[mask, 'DOB'] = df.loc[mask, 'DOB'] - pd.DateOffset(years=100)\n",
    "sns.histplot(df['DOB'], kde=True)\n",
    "plt.show()"
   ]
  },
  {
   "cell_type": "code",
   "execution_count": 13,
   "id": "f3cb62ec",
   "metadata": {},
   "outputs": [
    {
     "data": {
      "image/png": "[encoded data removed]",
      "text/plain": [
       "<Figure size 640x480 with 1 Axes>"
      ]
     },
     "metadata": {},
     "output_type": "display_data"
    }
   ],
   "source": [
    "df['DateofTermination'] = pd.to_datetime(df['DateofTermination'], format='%m/%d/%Y')\n",
    "sns.histplot(df['DateofTermination'], kde=True)\n",
    "plt.show()"
   ]
  },
  {
   "cell_type": "code",
   "execution_count": 14,
   "id": "0c8f8e93",
   "metadata": {},
   "outputs": [
    {
     "data": {
      "application/vnd.plotly.v1+json": {
       "config": {
        "plotlyServerURL": "https://plot.ly"
       },
       "data": [
        {
         "alignmentgroup": "True",
         "hovertemplate": "Department=%{x}<br>Salary=%{y}<extra></extra>",
         "legendgroup": "",
         "marker": {
          "color": "#636efa"
         },
         "name": "",
         "notched": false,
         "offsetgroup": "",
         "orientation": "v",
         "showlegend": false,
         "type": "box",
         "x": [
          "Production       ",
          "IT/IS",
          "Production       ",
          "Production       ",
          "Production       ",
          "Production       ",
          "Software Engineering",
          "Production       ",
          "Production       ",
          "IT/IS",
          "Production       ",
          "Production       ",
          "IT/IS",
          "Production       ",
          "Production       ",
          "Production       ",
          "Production       ",
          "Production       ",
          "IT/IS",
          "Production       ",
          "Production       ",
          "Production       ",
          "Production       ",
          "Production       ",
          "Production       ",
          "IT/IS",
          "Admin Offices",
          "Production       ",
          "Production       ",
          "Admin Offices",
          "Production       ",
          "Production       ",
          "Sales",
          "Production       ",
          "Production       ",
          "Software Engineering",
          "Production       ",
          "Software Engineering",
          "Production       ",
          "IT/IS",
          "Sales",
          "Production       ",
          "IT/IS",
          "Production       ",
          "Production       ",
          "Sales",
          "Production       ",
          "Production       ",
          "IT/IS",
          "Production       ",
          "Production       ",
          "Production       ",
          "Production       ",
          "Production       ",
          "Production       ",
          "Production       ",
          "Production       ",
          "IT/IS",
          "Production       ",
          "IT/IS",
          "Sales",
          "IT/IS",
          "Production       ",
          "Production       ",
          "Production       ",
          "Production       ",
          "Software Engineering",
          "Sales",
          "Production       ",
          "Production       ",
          "IT/IS",
          "Production       ",
          "Sales",
          "Production       ",
          "Production       ",
          "IT/IS",
          "IT/IS",
          "Sales",
          "Production       ",
          "Production       ",
          "Production       ",
          "Production       ",
          "Production       ",
          "Production       ",
          "Production       ",
          "Production       ",
          "Software Engineering",
          "Production       ",
          "Production       ",
          "Production       ",
          "Production       ",
          "IT/IS",
          "Production       ",
          "Production       ",
          "Production       ",
          "Sales",
          "IT/IS",
          "Admin Offices",
          "Sales",
          "IT/IS",
          "Production       ",
          "Production       ",
          "Production       ",
          "Production       ",
          "Sales",
          "Production       ",
          "Production       ",
          "Sales",
          "IT/IS",
          "IT/IS",
          "Production       ",
          "Production       ",
          "Production       ",
          "IT/IS",
          "Production       ",
          "Production       ",
          "Production       ",
          "Production       ",
          "Production       ",
          "Production       ",
          "IT/IS",
          "Sales",
          "Production       ",
          "Production       ",
          "Production       ",
          "Production       ",
          "Production       ",
          "Production       ",
          "Sales",
          "Production       ",
          "IT/IS",
          "Sales",
          "Admin Offices",
          "Production       ",
          "Production       ",
          "Production       ",
          "Production       ",
          "Production       ",
          "Production       ",
          "Production       ",
          "Production       ",
          "Production       ",
          "Production       ",
          "Production       ",
          "IT/IS",
          "Production       ",
          "Production       ",
          "Sales",
          "Production       ",
          "Sales",
          "Executive Office",
          "Production       ",
          "Production       ",
          "Production       ",
          "Production       ",
          "Sales",
          "IT/IS",
          "Production       ",
          "Production       ",
          "Production       ",
          "Admin Offices",
          "Production       ",
          "IT/IS",
          "Production       ",
          "Admin Offices",
          "Production       ",
          "Sales",
          "Production       ",
          "Production       ",
          "Production       ",
          "IT/IS",
          "Production       ",
          "Production       ",
          "Production       ",
          "Production       ",
          "Production       ",
          "Production       ",
          "Production       ",
          "Production       ",
          "Production       ",
          "Software Engineering",
          "Production       ",
          "Production       ",
          "Production       ",
          "Sales",
          "Production       ",
          "Production       ",
          "Production       ",
          "Production       ",
          "Production       ",
          "IT/IS",
          "Production       ",
          "Production       ",
          "IT/IS",
          "Production       ",
          "Production       ",
          "Production       ",
          "IT/IS",
          "Production       ",
          "Production       ",
          "Production       ",
          "Production       ",
          "Sales",
          "Production       ",
          "Production       ",
          "Production       ",
          "Production       ",
          "Sales",
          "Production       ",
          "Production       ",
          "Sales",
          "Production       ",
          "Software Engineering",
          "IT/IS",
          "Production       ",
          "Production       ",
          "Production       ",
          "Production       ",
          "Production       ",
          "Production       ",
          "IT/IS",
          "Production       ",
          "Production       ",
          "Sales",
          "Production       ",
          "Production       ",
          "Production       ",
          "Software Engineering",
          "IT/IS",
          "Production       ",
          "Sales",
          "Production       ",
          "Production       ",
          "Production       ",
          "Production       ",
          "Production       ",
          "Production       ",
          "Production       ",
          "IT/IS",
          "IT/IS",
          "IT/IS",
          "Production       ",
          "Production       ",
          "IT/IS",
          "IT/IS",
          "Software Engineering",
          "Production       ",
          "Production       ",
          "Production       ",
          "IT/IS",
          "Production       ",
          "Production       ",
          "IT/IS",
          "Production       ",
          "IT/IS",
          "Admin Offices",
          "Production       ",
          "Production       ",
          "Sales",
          "Admin Offices",
          "Production       ",
          "IT/IS",
          "IT/IS",
          "Production       ",
          "Production       ",
          "Production       ",
          "Production       ",
          "Sales",
          "Admin Offices",
          "Production       ",
          "Sales",
          "Production       ",
          "Production       ",
          "Production       ",
          "Software Engineering",
          "IT/IS",
          "Production       ",
          "Production       ",
          "Sales",
          "Production       ",
          "Production       ",
          "Production       ",
          "Sales",
          "Production       ",
          "IT/IS",
          "Software Engineering",
          "Production       ",
          "IT/IS",
          "Sales",
          "Production       ",
          "Production       ",
          "Sales",
          "IT/IS",
          "Production       ",
          "Production       ",
          "Production       ",
          "Production       ",
          "Production       ",
          "IT/IS",
          "IT/IS",
          "Production       ",
          "Production       ",
          "Production       ",
          "Production       ",
          "Production       ",
          "Production       ",
          "Production       ",
          "Production       ",
          "IT/IS",
          "IT/IS",
          "Production       "
         ],
         "x0": " ",
         "xaxis": "x",
         "y": [
          62506,
          104437,
          64955,
          64991,
          50825,
          57568,
          95660,
          59365,
          47837,
          null,
          null,
          47211,
          92328,
          58709,
          52505,
          57834,
          70131,
          59026,
          110000,
          null,
          null,
          64919,
          null,
          null,
          57815,
          null,
          106367,
          74312,
          53492,
          63000,
          65288,
          64375,
          74326,
          63763,
          null,
          77692,
          72640,
          null,
          52846,
          null,
          null,
          61656,
          110929,
          54237,
          null,
          null,
          64786,
          64816,
          68678,
          64066,
          null,
          50373,
          63108,
          59144,
          68051,
          170500,
          63381,
          83552,
          56149,
          null,
          65729,
          85028,
          57583,
          56294,
          56991,
          55722,
          101199,
          61568,
          58275,
          53189,
          96820,
          51259,
          null,
          61584,
          null,
          null,
          138888,
          74241,
          75188,
          62514,
          null,
          48888,
          54285,
          56847,
          60340,
          59124,
          99280,
          71776,
          65902,
          57748,
          64057,
          53366,
          58530,
          72609,
          55965,
          70187,
          178000,
          99351,
          67251,
          null,
          52249,
          53171,
          51337,
          null,
          59370,
          54933,
          57815,
          61555,
          114800,
          74679,
          53018,
          59892,
          68898,
          null,
          66825,
          null,
          66149,
          49256,
          62957,
          63813,
          99020,
          71707,
          54828,
          64246,
          52177,
          62065,
          46998,
          68099,
          null,
          63478,
          97999,
          180000,
          49920,
          55425,
          69340,
          64995,
          68182,
          null,
          null,
          61242,
          45069,
          null,
          60436,
          46837,
          105700,
          null,
          61154,
          68999,
          50482,
          65310,
          null,
          54005,
          null,
          46654,
          63973,
          null,
          93206,
          82758,
          66074,
          46120,
          64520,
          null,
          81584,
          63676,
          null,
          64738,
          70468,
          77915,
          52624,
          63450,
          51777,
          67237,
          null,
          52057,
          47434,
          null,
          45395,
          62385,
          68407,
          61349,
          105688,
          null,
          55315,
          62810,
          63291,
          62659,
          55688,
          83667,
          55800,
          58207,
          157000,
          72460,
          72106,
          52599,
          63430,
          null,
          null,
          null,
          null,
          46664,
          48495,
          52984,
          63695,
          62061,
          66738,
          null,
          71966,
          63051,
          47414,
          53060,
          68829,
          63515,
          108987,
          93093,
          53564,
          null,
          45998,
          57954,
          74669,
          74226,
          93554,
          64724,
          47001,
          61844,
          46799,
          59472,
          46430,
          83363,
          95920,
          null,
          61809,
          45115,
          46738,
          64971,
          55578,
          null,
          61422,
          63353,
          89883,
          120000,
          null,
          null,
          53180,
          null,
          null,
          86214,
          47750,
          46428,
          57975,
          null,
          null,
          50923,
          50750,
          52087,
          87826,
          51920,
          63878,
          null,
          72992,
          55000,
          58939,
          66593,
          87565,
          null,
          65714,
          62425,
          47961,
          58273,
          63003,
          61355,
          60120,
          null,
          63025,
          null,
          92989,
          90100,
          null,
          null,
          58370,
          48413,
          null,
          56339,
          64397,
          63025,
          75281,
          100416,
          74813,
          76029,
          57859,
          null,
          null,
          55875,
          null,
          49773,
          null,
          66541,
          80512,
          50274,
          null,
          107226,
          58371,
          55140,
          58062,
          59728,
          70507,
          60446,
          65893,
          48513,
          220450,
          89292,
          45046
         ],
         "y0": " ",
         "yaxis": "y"
        }
       ],
       "layout": {
        "boxmode": "group",
        "legend": {
         "tracegroupgap": 0
        },
        "template": {
         "data": {
          "bar": [
           {
            "error_x": {
             "color": "#2a3f5f"
            },
            "error_y": {
             "color": "#2a3f5f"
            },
            "marker": {
             "line": {
              "color": "#E5ECF6",
              "width": 0.5
             },
             "pattern": {
              "fillmode": "overlay",
              "size": 10,
              "solidity": 0.2
             }
            },
            "type": "bar"
           }
          ],
          "barpolar": [
           {
            "marker": {
             "line": {
              "color": "#E5ECF6",
              "width": 0.5
             },
             "pattern": {
              "fillmode": "overlay",
              "size": 10,
              "solidity": 0.2
             }
            },
            "type": "barpolar"
           }
          ],
          "carpet": [
           {
            "aaxis": {
             "endlinecolor": "#2a3f5f",
             "gridcolor": "white",
             "linecolor": "white",
             "minorgridcolor": "white",
             "startlinecolor": "#2a3f5f"
            },
            "baxis": {
             "endlinecolor": "#2a3f5f",
             "gridcolor": "white",
             "linecolor": "white",
             "minorgridcolor": "white",
             "startlinecolor": "#2a3f5f"
            },
            "type": "carpet"
           }
          ],
          "choropleth": [
           {
            "colorbar": {
             "outlinewidth": 0,
             "ticks": ""
            },
            "type": "choropleth"
           }
          ],
          "contour": [
           {
            "colorbar": {
             "outlinewidth": 0,
             "ticks": ""
            },
            "colorscale": [
             [
              0,
              "#0d0887"
             ],
             [
              0.1111111111111111,
              "#46039f"
             ],
             [
              0.2222222222222222,
              "#7201a8"
             ],
             [
              0.3333333333333333,
              "#9c179e"
             ],
             [
              0.4444444444444444,
              "#bd3786"
             ],
             [
              0.5555555555555556,
              "#d8576b"
             ],
             [
              0.6666666666666666,
              "#ed7953"
             ],
             [
              0.7777777777777778,
              "#fb9f3a"
             ],
             [
              0.8888888888888888,
              "#fdca26"
             ],
             [
              1,
              "#f0f921"
             ]
            ],
            "type": "contour"
           }
          ],
          "contourcarpet": [
           {
            "colorbar": {
             "outlinewidth": 0,
             "ticks": ""
            },
            "type": "contourcarpet"
           }
          ],
          "heatmap": [
           {
            "colorbar": {
             "outlinewidth": 0,
             "ticks": ""
            },
            "colorscale": [
             [
              0,
              "#0d0887"
             ],
             [
              0.1111111111111111,
              "#46039f"
             ],
             [
              0.2222222222222222,
              "#7201a8"
             ],
             [
              0.3333333333333333,
              "#9c179e"
             ],
             [
              0.4444444444444444,
              "#bd3786"
             ],
             [
              0.5555555555555556,
              "#d8576b"
             ],
             [
              0.6666666666666666,
              "#ed7953"
             ],
             [
              0.7777777777777778,
              "#fb9f3a"
             ],
             [
              0.8888888888888888,
              "#fdca26"
             ],
             [
              1,
              "#f0f921"
             ]
            ],
            "type": "heatmap"
           }
          ],
          "heatmapgl": [
           {
            "colorbar": {
             "outlinewidth": 0,
             "ticks": ""
            },
            "colorscale": [
             [
              0,
              "#0d0887"
             ],
             [
              0.1111111111111111,
              "#46039f"
             ],
             [
              0.2222222222222222,
              "#7201a8"
             ],
             [
              0.3333333333333333,
              "#9c179e"
             ],
             [
              0.4444444444444444,
              "#bd3786"
             ],
             [
              0.5555555555555556,
              "#d8576b"
             ],
             [
              0.6666666666666666,
              "#ed7953"
             ],
             [
              0.7777777777777778,
              "#fb9f3a"
             ],
             [
              0.8888888888888888,
              "#fdca26"
             ],
             [
              1,
              "#f0f921"
             ]
            ],
            "type": "heatmapgl"
           }
          ],
          "histogram": [
           {
            "marker": {
             "pattern": {
              "fillmode": "overlay",
              "size": 10,
              "solidity": 0.2
             }
            },
            "type": "histogram"
           }
          ],
          "histogram2d": [
           {
            "colorbar": {
             "outlinewidth": 0,
             "ticks": ""
            },
            "colorscale": [
             [
              0,
              "#0d0887"
             ],
             [
              0.1111111111111111,
              "#46039f"
             ],
             [
              0.2222222222222222,
              "#7201a8"
             ],
             [
              0.3333333333333333,
              "#9c179e"
             ],
             [
              0.4444444444444444,
              "#bd3786"
             ],
             [
              0.5555555555555556,
              "#d8576b"
             ],
             [
              0.6666666666666666,
              "#ed7953"
             ],
             [
              0.7777777777777778,
              "#fb9f3a"
             ],
             [
              0.8888888888888888,
              "#fdca26"
             ],
             [
              1,
              "#f0f921"
             ]
            ],
            "type": "histogram2d"
           }
          ],
          "histogram2dcontour": [
           {
            "colorbar": {
             "outlinewidth": 0,
             "ticks": ""
            },
            "colorscale": [
             [
              0,
              "#0d0887"
             ],
             [
              0.1111111111111111,
              "#46039f"
             ],
             [
              0.2222222222222222,
              "#7201a8"
             ],
             [
              0.3333333333333333,
              "#9c179e"
             ],
             [
              0.4444444444444444,
              "#bd3786"
             ],
             [
              0.5555555555555556,
              "#d8576b"
             ],
             [
              0.6666666666666666,
              "#ed7953"
             ],
             [
              0.7777777777777778,
              "#fb9f3a"
             ],
             [
              0.8888888888888888,
              "#fdca26"
             ],
             [
              1,
              "#f0f921"
             ]
            ],
            "type": "histogram2dcontour"
           }
          ],
          "mesh3d": [
           {
            "colorbar": {
             "outlinewidth": 0,
             "ticks": ""
            },
            "type": "mesh3d"
           }
          ],
          "parcoords": [
           {
            "line": {
             "colorbar": {
              "outlinewidth": 0,
              "ticks": ""
             }
            },
            "type": "parcoords"
           }
          ],
          "pie": [
           {
            "automargin": true,
            "type": "pie"
           }
          ],
          "scatter": [
           {
            "fillpattern": {
             "fillmode": "overlay",
             "size": 10,
             "solidity": 0.2
            },
            "type": "scatter"
           }
          ],
          "scatter3d": [
           {
            "line": {
             "colorbar": {
              "outlinewidth": 0,
              "ticks": ""
             }
            },
            "marker": {
             "colorbar": {
              "outlinewidth": 0,
              "ticks": ""
             }
            },
            "type": "scatter3d"
           }
          ],
          "scattercarpet": [
           {
            "marker": {
             "colorbar": {
              "outlinewidth": 0,
              "ticks": ""
             }
            },
            "type": "scattercarpet"
           }
          ],
          "scattergeo": [
           {
            "marker": {
             "colorbar": {
              "outlinewidth": 0,
              "ticks": ""
             }
            },
            "type": "scattergeo"
           }
          ],
          "scattergl": [
           {
            "marker": {
             "colorbar": {
              "outlinewidth": 0,
              "ticks": ""
             }
            },
            "type": "scattergl"
           }
          ],
          "scattermapbox": [
           {
            "marker": {
             "colorbar": {
              "outlinewidth": 0,
              "ticks": ""
             }
            },
            "type": "scattermapbox"
           }
          ],
          "scatterpolar": [
           {
            "marker": {
             "colorbar": {
              "outlinewidth": 0,
              "ticks": ""
             }
            },
            "type": "scatterpolar"
           }
          ],
          "scatterpolargl": [
           {
            "marker": {
             "colorbar": {
              "outlinewidth": 0,
              "ticks": ""
             }
            },
            "type": "scatterpolargl"
           }
          ],
          "scatterternary": [
           {
            "marker": {
             "colorbar": {
              "outlinewidth": 0,
              "ticks": ""
             }
            },
            "type": "scatterternary"
           }
          ],
          "surface": [
           {
            "colorbar": {
             "outlinewidth": 0,
             "ticks": ""
            },
            "colorscale": [
             [
              0,
              "#0d0887"
             ],
             [
              0.1111111111111111,
              "#46039f"
             ],
             [
              0.2222222222222222,
              "#7201a8"
             ],
             [
              0.3333333333333333,
              "#9c179e"
             ],
             [
              0.4444444444444444,
              "#bd3786"
             ],
             [
              0.5555555555555556,
              "#d8576b"
             ],
             [
              0.6666666666666666,
              "#ed7953"
             ],
             [
              0.7777777777777778,
              "#fb9f3a"
             ],
             [
              0.8888888888888888,
              "#fdca26"
             ],
             [
              1,
              "#f0f921"
             ]
            ],
            "type": "surface"
           }
          ],
          "table": [
           {
            "cells": {
             "fill": {
              "color": "#EBF0F8"
             },
             "line": {
              "color": "white"
             }
            },
            "header": {
             "fill": {
              "color": "#C8D4E3"
             },
             "line": {
              "color": "white"
             }
            },
            "type": "table"
           }
          ]
         },
         "layout": {
          "annotationdefaults": {
           "arrowcolor": "#2a3f5f",
           "arrowhead": 0,
           "arrowwidth": 1
          },
          "autotypenumbers": "strict",
          "coloraxis": {
           "colorbar": {
            "outlinewidth": 0,
            "ticks": ""
           }
          },
          "colorscale": {
           "diverging": [
            [
             0,
             "#8e0152"
            ],
            [
             0.1,
             "#c51b7d"
            ],
            [
             0.2,
             "#de77ae"
            ],
            [
             0.3,
             "#f1b6da"
            ],
            [
             0.4,
             "#fde0ef"
            ],
            [
             0.5,
             "#f7f7f7"
            ],
            [
             0.6,
             "#e6f5d0"
            ],
            [
             0.7,
             "#b8e186"
            ],
            [
             0.8,
             "#7fbc41"
            ],
            [
             0.9,
             "#4d9221"
            ],
            [
             1,
             "#276419"
            ]
           ],
           "sequential": [
            [
             0,
             "#0d0887"
            ],
            [
             0.1111111111111111,
             "#46039f"
            ],
            [
             0.2222222222222222,
             "#7201a8"
            ],
            [
             0.3333333333333333,
             "#9c179e"
            ],
            [
             0.4444444444444444,
             "#bd3786"
            ],
            [
             0.5555555555555556,
             "#d8576b"
            ],
            [
             0.6666666666666666,
             "#ed7953"
            ],
            [
             0.7777777777777778,
             "#fb9f3a"
            ],
            [
             0.8888888888888888,
             "#fdca26"
            ],
            [
             1,
             "#f0f921"
            ]
           ],
           "sequentialminus": [
            [
             0,
             "#0d0887"
            ],
            [
             0.1111111111111111,
             "#46039f"
            ],
            [
             0.2222222222222222,
             "#7201a8"
            ],
            [
             0.3333333333333333,
             "#9c179e"
            ],
            [
             0.4444444444444444,
             "#bd3786"
            ],
            [
             0.5555555555555556,
             "#d8576b"
            ],
            [
             0.6666666666666666,
             "#ed7953"
            ],
            [
             0.7777777777777778,
             "#fb9f3a"
            ],
            [
             0.8888888888888888,
             "#fdca26"
            ],
            [
             1,
             "#f0f921"
            ]
           ]
          },
          "colorway": [
           "#636efa",
           "#EF553B",
           "#00cc96",
           "#ab63fa",
           "#FFA15A",
           "#19d3f3",
           "#FF6692",
           "#B6E880",
           "#FF97FF",
           "#FECB52"
          ],
          "font": {
           "color": "#2a3f5f"
          },
          "geo": {
           "bgcolor": "white",
           "lakecolor": "white",
           "landcolor": "#E5ECF6",
           "showlakes": true,
           "showland": true,
           "subunitcolor": "white"
          },
          "hoverlabel": {
           "align": "left"
          },
          "hovermode": "closest",
          "mapbox": {
           "style": "light"
          },
          "paper_bgcolor": "white",
          "plot_bgcolor": "#E5ECF6",
          "polar": {
           "angularaxis": {
            "gridcolor": "white",
            "linecolor": "white",
            "ticks": ""
           },
           "bgcolor": "#E5ECF6",
           "radialaxis": {
            "gridcolor": "white",
            "linecolor": "white",
            "ticks": ""
           }
          },
          "scene": {
           "xaxis": {
            "backgroundcolor": "#E5ECF6",
            "gridcolor": "white",
            "gridwidth": 2,
            "linecolor": "white",
            "showbackground": true,
            "ticks": "",
            "zerolinecolor": "white"
           },
           "yaxis": {
            "backgroundcolor": "#E5ECF6",
            "gridcolor": "white",
            "gridwidth": 2,
            "linecolor": "white",
            "showbackground": true,
            "ticks": "",
            "zerolinecolor": "white"
           },
           "zaxis": {
            "backgroundcolor": "#E5ECF6",
            "gridcolor": "white",
            "gridwidth": 2,
            "linecolor": "white",
            "showbackground": true,
            "ticks": "",
            "zerolinecolor": "white"
           }
          },
          "shapedefaults": {
           "line": {
            "color": "#2a3f5f"
           }
          },
          "ternary": {
           "aaxis": {
            "gridcolor": "white",
            "linecolor": "white",
            "ticks": ""
           },
           "baxis": {
            "gridcolor": "white",
            "linecolor": "white",
            "ticks": ""
           },
           "bgcolor": "#E5ECF6",
           "caxis": {
            "gridcolor": "white",
            "linecolor": "white",
            "ticks": ""
           }
          },
          "title": {
           "x": 0.05
          },
          "xaxis": {
           "automargin": true,
           "gridcolor": "white",
           "linecolor": "white",
           "ticks": "",
           "title": {
            "standoff": 15
           },
           "zerolinecolor": "white",
           "zerolinewidth": 2
          },
          "yaxis": {
           "automargin": true,
           "gridcolor": "white",
           "linecolor": "white",
           "ticks": "",
           "title": {
            "standoff": 15
           },
           "zerolinecolor": "white",
           "zerolinewidth": 2
          }
         }
        },
        "title": {
         "text": "Salary distribution for each department"
        },
        "xaxis": {
         "anchor": "y",
         "domain": [
          0,
          1
         ],
         "title": {
          "text": "Department"
         }
        },
        "yaxis": {
         "anchor": "x",
         "domain": [
          0,
          1
         ],
         "title": {
          "text": "Salary"
         }
        }
       }
      }
     },
     "metadata": {},
     "output_type": "display_data"
    },
    {
     "name": "stdout",
     "output_type": "stream",
     "text": [
      "The median salary is:  62957.00\n",
      "The average salary is:  67972.66\n"
     ]
    }
   ],
   "source": [
    "#sns.boxplot(data=df,x=df.Salary,y=df.Department, orient='h');\n",
    "box = px.box(df, x='Department', y='Salary', title='Salary distribution for each department')\n",
    "box.show()\n",
    "print('The median salary is: ', f'{df.Salary.median():.2f}')\n",
    "print('The average salary is: ', f'{df.Salary.mean():.2f}')"
   ]
  },
  {
   "cell_type": "markdown",
   "id": "actual-protection",
   "metadata": {},
   "source": [
    "### Do the following steps for each column with missing values.\n",
    "* Identity the column.\n",
    "* How much precentage the missing value represents?\n",
    "* What is the best way to handle these missing values and why?\n",
    "* Apply your method to the column."
   ]
  },
  {
   "cell_type": "markdown",
   "id": "5f0faa24",
   "metadata": {},
   "source": [
    "### Columns that have missing values\n",
    "- Employee_Name\n",
    "- Salary\n",
    "- DOB\n",
    "- Sex\n",
    "- DateofTermination\n",
    "- Absences\n",
    "- ManagerID"
   ]
  },
  {
   "cell_type": "code",
   "execution_count": 15,
   "id": "b9847604",
   "metadata": {},
   "outputs": [
    {
     "name": "stdout",
     "output_type": "stream",
     "text": [
      "The missing values in Employee_Name is 29.90% of the total values\n",
      "The missing values in Salary is 19.94% of the total values\n",
      "The missing values in DOB is 9.97% of the total values\n",
      "The missing values in Sex is 19.94% of the total values\n",
      "The missing values in DateofTermination is 66.56% of the total values\n",
      "The missing values in Absences is 9.97% of the total values\n",
      "The missing values in ManagerID is 2.57% of the total values\n"
     ]
    }
   ],
   "source": [
    "total_values = len(df)\n",
    "print(f'The missing values in Employee_Name is {(df.Employee_Name.isnull().sum() /total_values) * 100:.2f}% of the total values')\n",
    "print(f'The missing values in Salary is {(df.Salary.isnull().sum() / total_values) * 100:.2f}% of the total values')\n",
    "print(f'The missing values in DOB is {(df.DOB.isnull().sum() / total_values) * 100:.2f}% of the total values')\n",
    "print(f'The missing values in Sex is {(df.Sex.isnull().sum() / total_values) * 100:.2f}% of the total values')\n",
    "print(f'The missing values in DateofTermination is {(df.DateofTermination.isnull().sum() / total_values) * 100:.2f}% of the total values')\n",
    "print(f'The missing values in Absences is {(df.Absences.isnull().sum() / total_values) * 100:.2f}% of the total values')\n",
    "print(f'The missing values in ManagerID is {(df.ManagerID.isnull().sum() / total_values) * 100:.2f}% of the total values')"
   ]
  },
  {
   "cell_type": "markdown",
   "id": "b45b5cb6",
   "metadata": {},
   "source": [
    "#### Employee Name\n",
    "The column could be handeled with **deletion** if our goal is to use the data in a model. Else we can fill it with **\"Unknown\"** or fill it with the **Employee ID** since it has no missing values."
   ]
  },
  {
   "cell_type": "code",
   "execution_count": 16,
   "id": "0a59e8d8",
   "metadata": {},
   "outputs": [
    {
     "data": {
      "text/html": [
       "<div>\n",
       "<style scoped>\n",
       "    .dataframe tbody tr th:only-of-type {\n",
       "        vertical-align: middle;\n",
       "    }\n",
       "\n",
       "    .dataframe tbody tr th {\n",
       "        vertical-align: top;\n",
       "    }\n",
       "\n",
       "    .dataframe thead th {\n",
       "        text-align: right;\n",
       "    }\n",
       "</style>\n",
       "<table border=\"1\" class=\"dataframe\">\n",
       "  <thead>\n",
       "    <tr style=\"text-align: right;\">\n",
       "      <th></th>\n",
       "      <th>Employee_Name</th>\n",
       "      <th>EmpID</th>\n",
       "      <th>Salary</th>\n",
       "      <th>PositionID</th>\n",
       "      <th>Position</th>\n",
       "      <th>DOB</th>\n",
       "      <th>Sex</th>\n",
       "      <th>MaritalDesc</th>\n",
       "      <th>RaceDesc</th>\n",
       "      <th>DateofHire</th>\n",
       "      <th>DateofTermination</th>\n",
       "      <th>Department</th>\n",
       "      <th>ManagerName</th>\n",
       "      <th>ManagerID</th>\n",
       "      <th>RecruitmentSource</th>\n",
       "      <th>Absences</th>\n",
       "    </tr>\n",
       "  </thead>\n",
       "  <tbody>\n",
       "    <tr>\n",
       "      <th>0</th>\n",
       "      <td>Adinolfi, Wilson  K</td>\n",
       "      <td>10026</td>\n",
       "      <td>62506.0</td>\n",
       "      <td>19</td>\n",
       "      <td>Production Technician I</td>\n",
       "      <td>1983-07-10</td>\n",
       "      <td>M</td>\n",
       "      <td>Single</td>\n",
       "      <td>White</td>\n",
       "      <td>7/5/2011</td>\n",
       "      <td>NaT</td>\n",
       "      <td>Production</td>\n",
       "      <td>Michael Albert</td>\n",
       "      <td>22.0</td>\n",
       "      <td>LinkedIn</td>\n",
       "      <td>1.0</td>\n",
       "    </tr>\n",
       "    <tr>\n",
       "      <th>1</th>\n",
       "      <td>Ait Sidi, Karthikeyan</td>\n",
       "      <td>10084</td>\n",
       "      <td>104437.0</td>\n",
       "      <td>27</td>\n",
       "      <td>Sr. DBA</td>\n",
       "      <td>1975-05-05</td>\n",
       "      <td>M</td>\n",
       "      <td>Married</td>\n",
       "      <td>White</td>\n",
       "      <td>3/30/2015</td>\n",
       "      <td>2016-06-16</td>\n",
       "      <td>IT/IS</td>\n",
       "      <td>Simon Roup</td>\n",
       "      <td>4.0</td>\n",
       "      <td>Indeed</td>\n",
       "      <td>17.0</td>\n",
       "    </tr>\n",
       "    <tr>\n",
       "      <th>2</th>\n",
       "      <td>Akinkuolie, Sarah</td>\n",
       "      <td>10196</td>\n",
       "      <td>64955.0</td>\n",
       "      <td>20</td>\n",
       "      <td>Production Technician II</td>\n",
       "      <td>1988-09-19</td>\n",
       "      <td>F</td>\n",
       "      <td>Married</td>\n",
       "      <td>White</td>\n",
       "      <td>7/5/2011</td>\n",
       "      <td>2012-09-24</td>\n",
       "      <td>Production</td>\n",
       "      <td>Kissy Sullivan</td>\n",
       "      <td>20.0</td>\n",
       "      <td>LinkedIn</td>\n",
       "      <td>3.0</td>\n",
       "    </tr>\n",
       "    <tr>\n",
       "      <th>3</th>\n",
       "      <td>Alagbe,Trina</td>\n",
       "      <td>10088</td>\n",
       "      <td>64991.0</td>\n",
       "      <td>19</td>\n",
       "      <td>Production Technician I</td>\n",
       "      <td>NaT</td>\n",
       "      <td>F</td>\n",
       "      <td>Married</td>\n",
       "      <td>White</td>\n",
       "      <td>1/7/2008</td>\n",
       "      <td>NaT</td>\n",
       "      <td>Production</td>\n",
       "      <td>Elijiah Gray</td>\n",
       "      <td>16.0</td>\n",
       "      <td>Indeed</td>\n",
       "      <td>15.0</td>\n",
       "    </tr>\n",
       "    <tr>\n",
       "      <th>4</th>\n",
       "      <td>Unknown Name</td>\n",
       "      <td>10069</td>\n",
       "      <td>50825.0</td>\n",
       "      <td>19</td>\n",
       "      <td>Production Technician I</td>\n",
       "      <td>1989-09-08</td>\n",
       "      <td>F</td>\n",
       "      <td>Divorced</td>\n",
       "      <td>White</td>\n",
       "      <td>7/11/2011</td>\n",
       "      <td>2016-09-06</td>\n",
       "      <td>Production</td>\n",
       "      <td>Webster Butler</td>\n",
       "      <td>39.0</td>\n",
       "      <td>Google Search</td>\n",
       "      <td>2.0</td>\n",
       "    </tr>\n",
       "    <tr>\n",
       "      <th>...</th>\n",
       "      <td>...</td>\n",
       "      <td>...</td>\n",
       "      <td>...</td>\n",
       "      <td>...</td>\n",
       "      <td>...</td>\n",
       "      <td>...</td>\n",
       "      <td>...</td>\n",
       "      <td>...</td>\n",
       "      <td>...</td>\n",
       "      <td>...</td>\n",
       "      <td>...</td>\n",
       "      <td>...</td>\n",
       "      <td>...</td>\n",
       "      <td>...</td>\n",
       "      <td>...</td>\n",
       "      <td>...</td>\n",
       "    </tr>\n",
       "    <tr>\n",
       "      <th>306</th>\n",
       "      <td>Woodson, Jason</td>\n",
       "      <td>10135</td>\n",
       "      <td>65893.0</td>\n",
       "      <td>20</td>\n",
       "      <td>Production Technician II</td>\n",
       "      <td>1985-05-11</td>\n",
       "      <td>M</td>\n",
       "      <td>Single</td>\n",
       "      <td>White</td>\n",
       "      <td>7/7/2014</td>\n",
       "      <td>NaT</td>\n",
       "      <td>Production</td>\n",
       "      <td>Kissy Sullivan</td>\n",
       "      <td>20.0</td>\n",
       "      <td>LinkedIn</td>\n",
       "      <td>13.0</td>\n",
       "    </tr>\n",
       "    <tr>\n",
       "      <th>307</th>\n",
       "      <td>Ybarra, Catherine</td>\n",
       "      <td>10301</td>\n",
       "      <td>48513.0</td>\n",
       "      <td>19</td>\n",
       "      <td>Production Technician I</td>\n",
       "      <td>NaT</td>\n",
       "      <td>F</td>\n",
       "      <td>Single</td>\n",
       "      <td>Asian</td>\n",
       "      <td>9/2/2008</td>\n",
       "      <td>2015-09-29</td>\n",
       "      <td>Production</td>\n",
       "      <td>Brannon Miller</td>\n",
       "      <td>12.0</td>\n",
       "      <td>Google Search</td>\n",
       "      <td>4.0</td>\n",
       "    </tr>\n",
       "    <tr>\n",
       "      <th>308</th>\n",
       "      <td>Unknown Name</td>\n",
       "      <td>10010</td>\n",
       "      <td>220450.0</td>\n",
       "      <td>6</td>\n",
       "      <td>CIO</td>\n",
       "      <td>NaT</td>\n",
       "      <td>F</td>\n",
       "      <td>Single</td>\n",
       "      <td>White</td>\n",
       "      <td>4/10/2010</td>\n",
       "      <td>NaT</td>\n",
       "      <td>IT/IS</td>\n",
       "      <td>Janet King</td>\n",
       "      <td>2.0</td>\n",
       "      <td>Employee Referral</td>\n",
       "      <td>16.0</td>\n",
       "    </tr>\n",
       "    <tr>\n",
       "      <th>309</th>\n",
       "      <td>Zhou, Julia</td>\n",
       "      <td>10043</td>\n",
       "      <td>89292.0</td>\n",
       "      <td>9</td>\n",
       "      <td>Data Analyst</td>\n",
       "      <td>1979-02-24</td>\n",
       "      <td>F</td>\n",
       "      <td>Single</td>\n",
       "      <td>White</td>\n",
       "      <td>3/30/2015</td>\n",
       "      <td>NaT</td>\n",
       "      <td>IT/IS</td>\n",
       "      <td>Simon Roup</td>\n",
       "      <td>4.0</td>\n",
       "      <td>Employee Referral</td>\n",
       "      <td>NaN</td>\n",
       "    </tr>\n",
       "    <tr>\n",
       "      <th>310</th>\n",
       "      <td>Unknown Name</td>\n",
       "      <td>10271</td>\n",
       "      <td>45046.0</td>\n",
       "      <td>19</td>\n",
       "      <td>Production Technician I</td>\n",
       "      <td>1978-08-17</td>\n",
       "      <td>F</td>\n",
       "      <td>Widowed</td>\n",
       "      <td>Asian</td>\n",
       "      <td>9/29/2014</td>\n",
       "      <td>NaT</td>\n",
       "      <td>Production</td>\n",
       "      <td>David Stanley</td>\n",
       "      <td>14.0</td>\n",
       "      <td>LinkedIn</td>\n",
       "      <td>2.0</td>\n",
       "    </tr>\n",
       "  </tbody>\n",
       "</table>\n",
       "<p>311 rows × 16 columns</p>\n",
       "</div>"
      ],
      "text/plain": [
       "                Employee_Name  EmpID    Salary  PositionID  \\\n",
       "0         Adinolfi, Wilson  K  10026   62506.0          19   \n",
       "1    Ait Sidi, Karthikeyan     10084  104437.0          27   \n",
       "2           Akinkuolie, Sarah  10196   64955.0          20   \n",
       "3                Alagbe,Trina  10088   64991.0          19   \n",
       "4                Unknown Name  10069   50825.0          19   \n",
       "..                        ...    ...       ...         ...   \n",
       "306            Woodson, Jason  10135   65893.0          20   \n",
       "307        Ybarra, Catherine   10301   48513.0          19   \n",
       "308              Unknown Name  10010  220450.0           6   \n",
       "309               Zhou, Julia  10043   89292.0           9   \n",
       "310              Unknown Name  10271   45046.0          19   \n",
       "\n",
       "                     Position        DOB Sex MaritalDesc RaceDesc DateofHire  \\\n",
       "0     Production Technician I 1983-07-10  M       Single    White   7/5/2011   \n",
       "1                     Sr. DBA 1975-05-05  M      Married    White  3/30/2015   \n",
       "2    Production Technician II 1988-09-19   F     Married    White   7/5/2011   \n",
       "3     Production Technician I        NaT   F     Married    White   1/7/2008   \n",
       "4     Production Technician I 1989-09-08   F    Divorced    White  7/11/2011   \n",
       "..                        ...        ...  ..         ...      ...        ...   \n",
       "306  Production Technician II 1985-05-11  M       Single    White   7/7/2014   \n",
       "307   Production Technician I        NaT   F      Single    Asian   9/2/2008   \n",
       "308                       CIO        NaT   F      Single    White  4/10/2010   \n",
       "309              Data Analyst 1979-02-24   F      Single    White  3/30/2015   \n",
       "310   Production Technician I 1978-08-17   F     Widowed    Asian  9/29/2014   \n",
       "\n",
       "    DateofTermination         Department     ManagerName  ManagerID  \\\n",
       "0                 NaT  Production         Michael Albert       22.0   \n",
       "1          2016-06-16              IT/IS      Simon Roup        4.0   \n",
       "2          2012-09-24  Production         Kissy Sullivan       20.0   \n",
       "3                 NaT  Production           Elijiah Gray       16.0   \n",
       "4          2016-09-06  Production         Webster Butler       39.0   \n",
       "..                ...                ...             ...        ...   \n",
       "306               NaT  Production         Kissy Sullivan       20.0   \n",
       "307        2015-09-29  Production         Brannon Miller       12.0   \n",
       "308               NaT              IT/IS      Janet King        2.0   \n",
       "309               NaT              IT/IS      Simon Roup        4.0   \n",
       "310               NaT  Production          David Stanley       14.0   \n",
       "\n",
       "     RecruitmentSource  Absences  \n",
       "0             LinkedIn       1.0  \n",
       "1               Indeed      17.0  \n",
       "2             LinkedIn       3.0  \n",
       "3               Indeed      15.0  \n",
       "4        Google Search       2.0  \n",
       "..                 ...       ...  \n",
       "306           LinkedIn      13.0  \n",
       "307      Google Search       4.0  \n",
       "308  Employee Referral      16.0  \n",
       "309  Employee Referral       NaN  \n",
       "310           LinkedIn       2.0  \n",
       "\n",
       "[311 rows x 16 columns]"
      ]
     },
     "execution_count": 16,
     "metadata": {},
     "output_type": "execute_result"
    }
   ],
   "source": [
    "df.loc[df['Employee_Name'].isnull(), 'Employee_Name'] = 'Unknown Name'\n",
    "\n",
    "#or\n",
    "\n",
    "#df.loc[df['Employee_Name'].isnull(), 'Employee_Name'] = (df['EmpID'].astype(str) + '-ID (Missing Name)')\n",
    "df"
   ]
  },
  {
   "cell_type": "markdown",
   "id": "e49c07f1",
   "metadata": {},
   "source": [
    "#### Salary\n",
    "It can be filled with the average or median of the salary of each **department** or **position**."
   ]
  },
  {
   "cell_type": "code",
   "execution_count": 17,
   "id": "bba0205c",
   "metadata": {},
   "outputs": [
    {
     "data": {
      "text/plain": [
       "array(['Production       ', 'IT/IS', 'Software Engineering',\n",
       "       'Admin Offices', 'Sales', 'Executive Office'], dtype=object)"
      ]
     },
     "execution_count": 17,
     "metadata": {},
     "output_type": "execute_result"
    }
   ],
   "source": [
    "df.Department.unique()"
   ]
  },
  {
   "cell_type": "code",
   "execution_count": 18,
   "id": "752a2dc6",
   "metadata": {},
   "outputs": [],
   "source": [
    "'''\n",
    "Most of the departments contain outliers as seen in the boxplot above,\n",
    "so we will use the median to fill the missing values.\n",
    "Executive Office has only one value and it's missing the salary,\n",
    "but it's a CEO :) so, we will replace it with the maximum salary in the dataset.\n",
    "'''\n",
    "dept_IT_mask = (df['Department'] == 'IT/IS') & (df['Salary'].isnull())\n",
    "dept_Pro_mask = (df['Department'] == 'Production       ') & (df['Salary'].isnull())\n",
    "dept_SE_mask = (df['Department'] == 'Software Engineering') & (df['Salary'].isnull())\n",
    "dept_AO_mask = (df['Department'] == 'Admin Offices') & (df['Salary'].isnull())\n",
    "dept_Sales_mask = (df['Department'] == 'Sales') & (df['Salary'].isnull())\n",
    "dept_EO_mask = (df['Department'] == 'Executive Office') & (df['Salary'].isnull())\n",
    "\n",
    "df.loc[dept_IT_mask, 'Salary'] = df.loc[df['Department'] == 'IT/IS','Salary'].median()\n",
    "df.loc[dept_Sales_mask, 'Salary'] = df.loc[df['Department'] == 'Sales','Salary'].median()\n",
    "df.loc[dept_Pro_mask, 'Salary'] = df.loc[df['Department'] == 'Production       ','Salary'].median()\n",
    "df.loc[dept_SE_mask, 'Salary'] = df.loc[df['Department'] == 'Software Engineering','Salary'].median()\n",
    "df.loc[dept_AO_mask, 'Salary'] = df.loc[df['Department'] == 'Admin Offices','Salary'].median()\n",
    "df.loc[dept_EO_mask, 'Salary'] = df['Salary'].max()"
   ]
  },
  {
   "cell_type": "markdown",
   "id": "d754efe5",
   "metadata": {},
   "source": [
    "#### DOB\n",
    "Replace it with the median of each department"
   ]
  },
  {
   "cell_type": "code",
   "execution_count": 19,
   "id": "aaab9f7e",
   "metadata": {},
   "outputs": [],
   "source": [
    "dept_IT_mask = (df['Department'] == 'IT/IS') & (df['DOB'].isnull())\n",
    "dept_Pro_mask = (df['Department'] == 'Production       ') & (df['DOB'].isnull())\n",
    "dept_AO_mask = (df['Department'] == 'Admin Offices') & (df['DOB'].isnull())\n",
    "dept_Sales_mask = (df['Department'] == 'Sales') & (df['DOB'].isnull())\n",
    "\n",
    "df.loc[dept_IT_mask, 'DOB'] = df.loc[df['Department'] == 'IT/IS','DOB'].median()\n",
    "df.loc[dept_Sales_mask, 'DOB'] = df.loc[df['Department'] == 'Sales','DOB'].median()\n",
    "df.loc[dept_Pro_mask, 'DOB'] = df.loc[df['Department'] == 'Production       ','DOB'].median()\n",
    "df.loc[dept_AO_mask, 'DOB'] = df.loc[df['Department'] == 'Admin Offices','DOB'].median()\n"
   ]
  },
  {
   "cell_type": "markdown",
   "id": "720a9e64",
   "metadata": {},
   "source": [
    "#### Sex\n",
    "We can replace it with the mode of the list or mode of each department or look in the name column if it is a male or female name"
   ]
  },
  {
   "cell_type": "code",
   "execution_count": 20,
   "id": "be117643",
   "metadata": {},
   "outputs": [],
   "source": [
    "dept_name_mask = (df['Employee_Name'] != 'Unknown Name') & (df['Sex'].isnull())\n",
    "#so we can fill them manually using a dictionary maybe or we can use the mode\n",
    "genders = {'index': df.loc[dept_name_mask].index.tolist(), 'name': df.loc[dept_name_mask]['Employee_Name'].tolist()}\n",
    "genders = pd.DataFrame(genders)"
   ]
  },
  {
   "cell_type": "code",
   "execution_count": 21,
   "id": "be05e672",
   "metadata": {},
   "outputs": [
    {
     "name": "stdout",
     "output_type": "stream",
     "text": [
      "M\n"
     ]
    },
    {
     "data": {
      "text/html": [
       "<div>\n",
       "<style scoped>\n",
       "    .dataframe tbody tr th:only-of-type {\n",
       "        vertical-align: middle;\n",
       "    }\n",
       "\n",
       "    .dataframe tbody tr th {\n",
       "        vertical-align: top;\n",
       "    }\n",
       "\n",
       "    .dataframe thead th {\n",
       "        text-align: right;\n",
       "    }\n",
       "</style>\n",
       "<table border=\"1\" class=\"dataframe\">\n",
       "  <thead>\n",
       "    <tr style=\"text-align: right;\">\n",
       "      <th></th>\n",
       "      <th>Employee_Name</th>\n",
       "      <th>EmpID</th>\n",
       "      <th>Salary</th>\n",
       "      <th>PositionID</th>\n",
       "      <th>Position</th>\n",
       "      <th>DOB</th>\n",
       "      <th>Sex</th>\n",
       "      <th>MaritalDesc</th>\n",
       "      <th>RaceDesc</th>\n",
       "      <th>DateofHire</th>\n",
       "      <th>DateofTermination</th>\n",
       "      <th>Department</th>\n",
       "      <th>ManagerName</th>\n",
       "      <th>ManagerID</th>\n",
       "      <th>RecruitmentSource</th>\n",
       "      <th>Absences</th>\n",
       "    </tr>\n",
       "  </thead>\n",
       "  <tbody>\n",
       "    <tr>\n",
       "      <th>15</th>\n",
       "      <td>Bates, Norman</td>\n",
       "      <td>10061</td>\n",
       "      <td>57834.0</td>\n",
       "      <td>19</td>\n",
       "      <td>Production Technician I</td>\n",
       "      <td>1981-10-18 00:00:00</td>\n",
       "      <td>M</td>\n",
       "      <td>Single</td>\n",
       "      <td>White</td>\n",
       "      <td>2/21/2011</td>\n",
       "      <td>2017-08-04</td>\n",
       "      <td>Production</td>\n",
       "      <td>Kelley Spirea</td>\n",
       "      <td>18.0</td>\n",
       "      <td>Google Search</td>\n",
       "      <td>20.0</td>\n",
       "    </tr>\n",
       "    <tr>\n",
       "      <th>16</th>\n",
       "      <td>Beak, Kimberly</td>\n",
       "      <td>10023</td>\n",
       "      <td>70131.0</td>\n",
       "      <td>20</td>\n",
       "      <td>Production Technician II</td>\n",
       "      <td>1966-04-17 00:00:00</td>\n",
       "      <td>F</td>\n",
       "      <td>Married</td>\n",
       "      <td>White</td>\n",
       "      <td>7/21/2016</td>\n",
       "      <td>NaT</td>\n",
       "      <td>Production</td>\n",
       "      <td>Kelley Spirea</td>\n",
       "      <td>18.0</td>\n",
       "      <td>Employee Referral</td>\n",
       "      <td>16.0</td>\n",
       "    </tr>\n",
       "    <tr>\n",
       "      <th>27</th>\n",
       "      <td>Bozzi, Charles</td>\n",
       "      <td>10175</td>\n",
       "      <td>74312.0</td>\n",
       "      <td>18</td>\n",
       "      <td>Production Manager</td>\n",
       "      <td>1970-03-10 00:00:00</td>\n",
       "      <td>M</td>\n",
       "      <td>Single</td>\n",
       "      <td>Asian</td>\n",
       "      <td>9/30/2013</td>\n",
       "      <td>2014-08-07</td>\n",
       "      <td>Production</td>\n",
       "      <td>Janet King</td>\n",
       "      <td>2.0</td>\n",
       "      <td>Indeed</td>\n",
       "      <td>14.0</td>\n",
       "    </tr>\n",
       "    <tr>\n",
       "      <th>39</th>\n",
       "      <td>Carr, Claudia  N</td>\n",
       "      <td>10082</td>\n",
       "      <td>92710.5</td>\n",
       "      <td>27</td>\n",
       "      <td>Sr. DBA</td>\n",
       "      <td>1986-06-06 00:00:00</td>\n",
       "      <td>F</td>\n",
       "      <td>Single</td>\n",
       "      <td>Black or African American</td>\n",
       "      <td>6/30/2016</td>\n",
       "      <td>NaT</td>\n",
       "      <td>IT/IS</td>\n",
       "      <td>Simon Roup</td>\n",
       "      <td>4.0</td>\n",
       "      <td>LinkedIn</td>\n",
       "      <td>7.0</td>\n",
       "    </tr>\n",
       "    <tr>\n",
       "      <th>42</th>\n",
       "      <td>Champaigne, Brian</td>\n",
       "      <td>10108</td>\n",
       "      <td>110929.0</td>\n",
       "      <td>5</td>\n",
       "      <td>BI Director</td>\n",
       "      <td>1983-09-04 00:00:00</td>\n",
       "      <td>M</td>\n",
       "      <td>Married</td>\n",
       "      <td>White</td>\n",
       "      <td>9/6/2016</td>\n",
       "      <td>NaT</td>\n",
       "      <td>IT/IS</td>\n",
       "      <td>Jennifer Zamora</td>\n",
       "      <td>5.0</td>\n",
       "      <td>Indeed</td>\n",
       "      <td>8.0</td>\n",
       "    </tr>\n",
       "    <tr>\n",
       "      <th>44</th>\n",
       "      <td>Chang, Donovan  E</td>\n",
       "      <td>10154</td>\n",
       "      <td>59144.0</td>\n",
       "      <td>19</td>\n",
       "      <td>Production Technician I</td>\n",
       "      <td>1983-08-24 00:00:00</td>\n",
       "      <td>F</td>\n",
       "      <td>Single</td>\n",
       "      <td>White</td>\n",
       "      <td>7/8/2013</td>\n",
       "      <td>NaT</td>\n",
       "      <td>Production</td>\n",
       "      <td>Webster Butler</td>\n",
       "      <td>NaN</td>\n",
       "      <td>LinkedIn</td>\n",
       "      <td>4.0</td>\n",
       "    </tr>\n",
       "    <tr>\n",
       "      <th>51</th>\n",
       "      <td>Clukey, Elijian</td>\n",
       "      <td>10029</td>\n",
       "      <td>50373.0</td>\n",
       "      <td>19</td>\n",
       "      <td>Production Technician I</td>\n",
       "      <td>1980-08-26 00:00:00</td>\n",
       "      <td>F</td>\n",
       "      <td>Married</td>\n",
       "      <td>White</td>\n",
       "      <td>7/6/2016</td>\n",
       "      <td>NaT</td>\n",
       "      <td>Production</td>\n",
       "      <td>Brannon Miller</td>\n",
       "      <td>12.0</td>\n",
       "      <td>Employee Referral</td>\n",
       "      <td>5.0</td>\n",
       "    </tr>\n",
       "    <tr>\n",
       "      <th>56</th>\n",
       "      <td>Cornett, Lisa</td>\n",
       "      <td>10094</td>\n",
       "      <td>63381.0</td>\n",
       "      <td>19</td>\n",
       "      <td>Production Technician I</td>\n",
       "      <td>1977-03-31 00:00:00</td>\n",
       "      <td>F</td>\n",
       "      <td>Married</td>\n",
       "      <td>White</td>\n",
       "      <td>1/5/2015</td>\n",
       "      <td>NaT</td>\n",
       "      <td>Production</td>\n",
       "      <td>Kelley Spirea</td>\n",
       "      <td>18.0</td>\n",
       "      <td>Indeed</td>\n",
       "      <td>6.0</td>\n",
       "    </tr>\n",
       "    <tr>\n",
       "      <th>67</th>\n",
       "      <td>Delarge, Alex</td>\n",
       "      <td>10306</td>\n",
       "      <td>61568.0</td>\n",
       "      <td>3</td>\n",
       "      <td>Area Sales Manager</td>\n",
       "      <td>1975-11-02 00:00:00</td>\n",
       "      <td>M</td>\n",
       "      <td>Single</td>\n",
       "      <td>Two or more races</td>\n",
       "      <td>9/29/2014</td>\n",
       "      <td>NaT</td>\n",
       "      <td>Sales</td>\n",
       "      <td>John Smith</td>\n",
       "      <td>17.0</td>\n",
       "      <td>Indeed</td>\n",
       "      <td>5.0</td>\n",
       "    </tr>\n",
       "    <tr>\n",
       "      <th>73</th>\n",
       "      <td>DiNocco, Lily</td>\n",
       "      <td>10284</td>\n",
       "      <td>61584.0</td>\n",
       "      <td>19</td>\n",
       "      <td>Production Technician I</td>\n",
       "      <td>1978-12-02 00:00:00</td>\n",
       "      <td>F</td>\n",
       "      <td>Married</td>\n",
       "      <td>Black or African American</td>\n",
       "      <td>1/7/2013</td>\n",
       "      <td>NaT</td>\n",
       "      <td>Production</td>\n",
       "      <td>Brannon Miller</td>\n",
       "      <td>12.0</td>\n",
       "      <td>Indeed</td>\n",
       "      <td>6.0</td>\n",
       "    </tr>\n",
       "    <tr>\n",
       "      <th>84</th>\n",
       "      <td>Estremera, Miguel</td>\n",
       "      <td>10280</td>\n",
       "      <td>60340.0</td>\n",
       "      <td>19</td>\n",
       "      <td>Production Technician I</td>\n",
       "      <td>1979-10-19 12:00:00</td>\n",
       "      <td>M</td>\n",
       "      <td>Single</td>\n",
       "      <td>White</td>\n",
       "      <td>4/2/2012</td>\n",
       "      <td>2018-09-27</td>\n",
       "      <td>Production</td>\n",
       "      <td>Michael Albert</td>\n",
       "      <td>22.0</td>\n",
       "      <td>Google Search</td>\n",
       "      <td>16.0</td>\n",
       "    </tr>\n",
       "    <tr>\n",
       "      <th>85</th>\n",
       "      <td>Evensen, April</td>\n",
       "      <td>10296</td>\n",
       "      <td>59124.0</td>\n",
       "      <td>19</td>\n",
       "      <td>Production Technician I</td>\n",
       "      <td>1989-05-06 00:00:00</td>\n",
       "      <td>F</td>\n",
       "      <td>Single</td>\n",
       "      <td>White</td>\n",
       "      <td>2/17/2014</td>\n",
       "      <td>2018-02-25</td>\n",
       "      <td>Production</td>\n",
       "      <td>Elijiah Gray</td>\n",
       "      <td>16.0</td>\n",
       "      <td>Google Search</td>\n",
       "      <td>19.0</td>\n",
       "    </tr>\n",
       "    <tr>\n",
       "      <th>95</th>\n",
       "      <td>Forrest, Alex</td>\n",
       "      <td>10305</td>\n",
       "      <td>70187.0</td>\n",
       "      <td>3</td>\n",
       "      <td>Area Sales Manager</td>\n",
       "      <td>1975-07-07 00:00:00</td>\n",
       "      <td>M</td>\n",
       "      <td>Married</td>\n",
       "      <td>White</td>\n",
       "      <td>9/29/2014</td>\n",
       "      <td>2018-08-19</td>\n",
       "      <td>Sales</td>\n",
       "      <td>Lynn Daneault</td>\n",
       "      <td>21.0</td>\n",
       "      <td>Employee Referral</td>\n",
       "      <td>7.0</td>\n",
       "    </tr>\n",
       "    <tr>\n",
       "      <th>120</th>\n",
       "      <td>Gruber, Hans</td>\n",
       "      <td>10234</td>\n",
       "      <td>99020.0</td>\n",
       "      <td>4</td>\n",
       "      <td>BI Developer</td>\n",
       "      <td>1989-06-30 00:00:00</td>\n",
       "      <td>M</td>\n",
       "      <td>Married</td>\n",
       "      <td>Black or African American</td>\n",
       "      <td>4/20/2017</td>\n",
       "      <td>NaT</td>\n",
       "      <td>IT/IS</td>\n",
       "      <td>Brian Champaigne</td>\n",
       "      <td>13.0</td>\n",
       "      <td>Indeed</td>\n",
       "      <td>8.0</td>\n",
       "    </tr>\n",
       "    <tr>\n",
       "      <th>131</th>\n",
       "      <td>Houlihan, Debra</td>\n",
       "      <td>10272</td>\n",
       "      <td>180000.0</td>\n",
       "      <td>11</td>\n",
       "      <td>Director of Sales</td>\n",
       "      <td>1966-03-17 00:00:00</td>\n",
       "      <td>F</td>\n",
       "      <td>Married</td>\n",
       "      <td>White</td>\n",
       "      <td>5/5/2014</td>\n",
       "      <td>NaT</td>\n",
       "      <td>Sales</td>\n",
       "      <td>Janet King</td>\n",
       "      <td>2.0</td>\n",
       "      <td>LinkedIn</td>\n",
       "      <td>19.0</td>\n",
       "    </tr>\n",
       "    <tr>\n",
       "      <th>133</th>\n",
       "      <td>Hudson, Jane</td>\n",
       "      <td>10248</td>\n",
       "      <td>55425.0</td>\n",
       "      <td>19</td>\n",
       "      <td>Production Technician I</td>\n",
       "      <td>1986-06-10 00:00:00</td>\n",
       "      <td>F</td>\n",
       "      <td>Single</td>\n",
       "      <td>White</td>\n",
       "      <td>2/20/2012</td>\n",
       "      <td>NaT</td>\n",
       "      <td>Production</td>\n",
       "      <td>Ketsia Liebig</td>\n",
       "      <td>19.0</td>\n",
       "      <td>LinkedIn</td>\n",
       "      <td>4.0</td>\n",
       "    </tr>\n",
       "    <tr>\n",
       "      <th>136</th>\n",
       "      <td>Huynh, Ming</td>\n",
       "      <td>10160</td>\n",
       "      <td>68182.0</td>\n",
       "      <td>20</td>\n",
       "      <td>Production Technician II</td>\n",
       "      <td>1976-09-22 00:00:00</td>\n",
       "      <td>F</td>\n",
       "      <td>Divorced</td>\n",
       "      <td>White</td>\n",
       "      <td>2/21/2011</td>\n",
       "      <td>2013-04-01</td>\n",
       "      <td>Production</td>\n",
       "      <td>Amy Dunn</td>\n",
       "      <td>11.0</td>\n",
       "      <td>Google Search</td>\n",
       "      <td>18.0</td>\n",
       "    </tr>\n",
       "    <tr>\n",
       "      <th>144</th>\n",
       "      <td>Johnson, Noelle</td>\n",
       "      <td>10156</td>\n",
       "      <td>105700.0</td>\n",
       "      <td>8</td>\n",
       "      <td>Database Administrator</td>\n",
       "      <td>1986-11-07 00:00:00</td>\n",
       "      <td>F</td>\n",
       "      <td>Married</td>\n",
       "      <td>Asian</td>\n",
       "      <td>1/5/2015</td>\n",
       "      <td>NaT</td>\n",
       "      <td>IT/IS</td>\n",
       "      <td>Simon Roup</td>\n",
       "      <td>4.0</td>\n",
       "      <td>Indeed</td>\n",
       "      <td>2.0</td>\n",
       "    </tr>\n",
       "    <tr>\n",
       "      <th>145</th>\n",
       "      <td>Johnston, Yen</td>\n",
       "      <td>10036</td>\n",
       "      <td>59144.0</td>\n",
       "      <td>20</td>\n",
       "      <td>Production Technician II</td>\n",
       "      <td>1969-09-08 00:00:00</td>\n",
       "      <td>F</td>\n",
       "      <td>Single</td>\n",
       "      <td>White</td>\n",
       "      <td>7/7/2014</td>\n",
       "      <td>NaT</td>\n",
       "      <td>Production</td>\n",
       "      <td>Brannon Miller</td>\n",
       "      <td>12.0</td>\n",
       "      <td>LinkedIn</td>\n",
       "      <td>1.0</td>\n",
       "    </tr>\n",
       "    <tr>\n",
       "      <th>147</th>\n",
       "      <td>Kampew, Donysha</td>\n",
       "      <td>10244</td>\n",
       "      <td>68999.0</td>\n",
       "      <td>21</td>\n",
       "      <td>Sales Manager</td>\n",
       "      <td>1989-11-11 00:00:00</td>\n",
       "      <td>F</td>\n",
       "      <td>Single</td>\n",
       "      <td>White</td>\n",
       "      <td>11/7/2011</td>\n",
       "      <td>2014-04-24</td>\n",
       "      <td>Sales</td>\n",
       "      <td>Debra Houlihan</td>\n",
       "      <td>15.0</td>\n",
       "      <td>Google Search</td>\n",
       "      <td>2.0</td>\n",
       "    </tr>\n",
       "    <tr>\n",
       "      <th>153</th>\n",
       "      <td>Knapp, Bradley  J</td>\n",
       "      <td>10208</td>\n",
       "      <td>46654.0</td>\n",
       "      <td>19</td>\n",
       "      <td>Production Technician I</td>\n",
       "      <td>1977-11-10 00:00:00</td>\n",
       "      <td>F</td>\n",
       "      <td>Single</td>\n",
       "      <td>Black or African American</td>\n",
       "      <td>2/17/2014</td>\n",
       "      <td>NaT</td>\n",
       "      <td>Production</td>\n",
       "      <td>Ketsia Liebig</td>\n",
       "      <td>19.0</td>\n",
       "      <td>LinkedIn</td>\n",
       "      <td>3.0</td>\n",
       "    </tr>\n",
       "    <tr>\n",
       "      <th>163</th>\n",
       "      <td>Leach, Dallas</td>\n",
       "      <td>10087</td>\n",
       "      <td>63676.0</td>\n",
       "      <td>19</td>\n",
       "      <td>Production Technician I</td>\n",
       "      <td>1979-01-17 00:00:00</td>\n",
       "      <td>M</td>\n",
       "      <td>Single</td>\n",
       "      <td>Asian</td>\n",
       "      <td>9/26/2011</td>\n",
       "      <td>2018-08-19</td>\n",
       "      <td>Production</td>\n",
       "      <td>Kissy Sullivan</td>\n",
       "      <td>20.0</td>\n",
       "      <td>CareerBuilder</td>\n",
       "      <td>17.0</td>\n",
       "    </tr>\n",
       "    <tr>\n",
       "      <th>165</th>\n",
       "      <td>Lecter, Hannibal</td>\n",
       "      <td>10251</td>\n",
       "      <td>64738.0</td>\n",
       "      <td>19</td>\n",
       "      <td>Production Technician I</td>\n",
       "      <td>1982-09-02 00:00:00</td>\n",
       "      <td>M</td>\n",
       "      <td>Married</td>\n",
       "      <td>Asian</td>\n",
       "      <td>5/14/2012</td>\n",
       "      <td>NaT</td>\n",
       "      <td>Production</td>\n",
       "      <td>Elijiah Gray</td>\n",
       "      <td>16.0</td>\n",
       "      <td>Google Search</td>\n",
       "      <td>10.0</td>\n",
       "    </tr>\n",
       "    <tr>\n",
       "      <th>166</th>\n",
       "      <td>Leruth, Giovanni</td>\n",
       "      <td>10103</td>\n",
       "      <td>70468.0</td>\n",
       "      <td>3</td>\n",
       "      <td>Area Sales Manager</td>\n",
       "      <td>1988-12-27 00:00:00</td>\n",
       "      <td>M</td>\n",
       "      <td>Separated</td>\n",
       "      <td>Black or African American</td>\n",
       "      <td>4/30/2012</td>\n",
       "      <td>NaT</td>\n",
       "      <td>Sales</td>\n",
       "      <td>John Smith</td>\n",
       "      <td>17.0</td>\n",
       "      <td>Website</td>\n",
       "      <td>16.0</td>\n",
       "    </tr>\n",
       "    <tr>\n",
       "      <th>189</th>\n",
       "      <td>Monkfish, Erasumus</td>\n",
       "      <td>10213</td>\n",
       "      <td>58207.0</td>\n",
       "      <td>20</td>\n",
       "      <td>Production Technician II</td>\n",
       "      <td>1992-08-17 00:00:00</td>\n",
       "      <td>F</td>\n",
       "      <td>Married</td>\n",
       "      <td>White</td>\n",
       "      <td>11/7/2011</td>\n",
       "      <td>NaT</td>\n",
       "      <td>Production</td>\n",
       "      <td>David Stanley</td>\n",
       "      <td>14.0</td>\n",
       "      <td>LinkedIn</td>\n",
       "      <td>14.0</td>\n",
       "    </tr>\n",
       "    <tr>\n",
       "      <th>192</th>\n",
       "      <td>Moran, Patrick</td>\n",
       "      <td>10223</td>\n",
       "      <td>72106.0</td>\n",
       "      <td>20</td>\n",
       "      <td>Production Technician II</td>\n",
       "      <td>1976-12-03 00:00:00</td>\n",
       "      <td>M</td>\n",
       "      <td>Single</td>\n",
       "      <td>Black or African American</td>\n",
       "      <td>1/9/2012</td>\n",
       "      <td>NaT</td>\n",
       "      <td>Production</td>\n",
       "      <td>Kelley Spirea</td>\n",
       "      <td>18.0</td>\n",
       "      <td>Diversity Job Fair</td>\n",
       "      <td>12.0</td>\n",
       "    </tr>\n",
       "    <tr>\n",
       "      <th>194</th>\n",
       "      <td>Motlagh,  Dawn</td>\n",
       "      <td>10254</td>\n",
       "      <td>63430.0</td>\n",
       "      <td>19</td>\n",
       "      <td>Production Technician I</td>\n",
       "      <td>1984-07-07 00:00:00</td>\n",
       "      <td>F</td>\n",
       "      <td>Divorced</td>\n",
       "      <td>White</td>\n",
       "      <td>4/1/2013</td>\n",
       "      <td>NaT</td>\n",
       "      <td>Production</td>\n",
       "      <td>Elijiah Gray</td>\n",
       "      <td>16.0</td>\n",
       "      <td>LinkedIn</td>\n",
       "      <td>NaN</td>\n",
       "    </tr>\n",
       "    <tr>\n",
       "      <th>200</th>\n",
       "      <td>Newman, Richard</td>\n",
       "      <td>10063</td>\n",
       "      <td>48495.0</td>\n",
       "      <td>19</td>\n",
       "      <td>Production Technician I</td>\n",
       "      <td>1977-04-08 00:00:00</td>\n",
       "      <td>M</td>\n",
       "      <td>Married</td>\n",
       "      <td>White</td>\n",
       "      <td>5/12/2014</td>\n",
       "      <td>NaT</td>\n",
       "      <td>Production</td>\n",
       "      <td>Ketsia Liebig</td>\n",
       "      <td>19.0</td>\n",
       "      <td>LinkedIn</td>\n",
       "      <td>11.0</td>\n",
       "    </tr>\n",
       "    <tr>\n",
       "      <th>207</th>\n",
       "      <td>Onque, Jasmine</td>\n",
       "      <td>10121</td>\n",
       "      <td>63051.0</td>\n",
       "      <td>3</td>\n",
       "      <td>Area Sales Manager</td>\n",
       "      <td>1990-05-11 00:00:00</td>\n",
       "      <td>F</td>\n",
       "      <td>Single</td>\n",
       "      <td>White</td>\n",
       "      <td>9/30/2013</td>\n",
       "      <td>NaT</td>\n",
       "      <td>Sales</td>\n",
       "      <td>Lynn Daneault</td>\n",
       "      <td>21.0</td>\n",
       "      <td>Indeed</td>\n",
       "      <td>1.0</td>\n",
       "    </tr>\n",
       "    <tr>\n",
       "      <th>210</th>\n",
       "      <td>Ozark, Travis</td>\n",
       "      <td>10041</td>\n",
       "      <td>68829.0</td>\n",
       "      <td>3</td>\n",
       "      <td>Area Sales Manager</td>\n",
       "      <td>1982-05-19 00:00:00</td>\n",
       "      <td>M</td>\n",
       "      <td>Single</td>\n",
       "      <td>White</td>\n",
       "      <td>1/5/2015</td>\n",
       "      <td>NaT</td>\n",
       "      <td>Sales</td>\n",
       "      <td>John Smith</td>\n",
       "      <td>17.0</td>\n",
       "      <td>Website</td>\n",
       "      <td>18.0</td>\n",
       "    </tr>\n",
       "    <tr>\n",
       "      <th>211</th>\n",
       "      <td>Panjwani, Nina</td>\n",
       "      <td>10148</td>\n",
       "      <td>63515.0</td>\n",
       "      <td>19</td>\n",
       "      <td>Production Technician I</td>\n",
       "      <td>1979-05-01 00:00:00</td>\n",
       "      <td>F</td>\n",
       "      <td>Married</td>\n",
       "      <td>White</td>\n",
       "      <td>2/7/2011</td>\n",
       "      <td>2014-01-12</td>\n",
       "      <td>Production</td>\n",
       "      <td>Elijiah Gray</td>\n",
       "      <td>16.0</td>\n",
       "      <td>Google Search</td>\n",
       "      <td>NaN</td>\n",
       "    </tr>\n",
       "    <tr>\n",
       "      <th>216</th>\n",
       "      <td>Perry, Shakira</td>\n",
       "      <td>10171</td>\n",
       "      <td>45998.0</td>\n",
       "      <td>19</td>\n",
       "      <td>Production Technician I</td>\n",
       "      <td>1979-10-19 12:00:00</td>\n",
       "      <td>F</td>\n",
       "      <td>Single</td>\n",
       "      <td>White</td>\n",
       "      <td>5/16/2011</td>\n",
       "      <td>2015-10-25</td>\n",
       "      <td>Production</td>\n",
       "      <td>Amy Dunn</td>\n",
       "      <td>11.0</td>\n",
       "      <td>LinkedIn</td>\n",
       "      <td>5.0</td>\n",
       "    </tr>\n",
       "    <tr>\n",
       "      <th>234</th>\n",
       "      <td>Robertson, Peter</td>\n",
       "      <td>10224</td>\n",
       "      <td>55578.0</td>\n",
       "      <td>20</td>\n",
       "      <td>Production Technician II</td>\n",
       "      <td>1972-07-03 00:00:00</td>\n",
       "      <td>M</td>\n",
       "      <td>Married</td>\n",
       "      <td>White</td>\n",
       "      <td>7/5/2011</td>\n",
       "      <td>2012-02-08</td>\n",
       "      <td>Production</td>\n",
       "      <td>Kissy Sullivan</td>\n",
       "      <td>20.0</td>\n",
       "      <td>Indeed</td>\n",
       "      <td>NaN</td>\n",
       "    </tr>\n",
       "    <tr>\n",
       "      <th>265</th>\n",
       "      <td>Squatrito, Kristen</td>\n",
       "      <td>10030</td>\n",
       "      <td>62425.0</td>\n",
       "      <td>19</td>\n",
       "      <td>Production Technician I</td>\n",
       "      <td>1973-03-26 00:00:00</td>\n",
       "      <td>F</td>\n",
       "      <td>Divorced</td>\n",
       "      <td>White</td>\n",
       "      <td>5/13/2013</td>\n",
       "      <td>2015-06-29</td>\n",
       "      <td>Production</td>\n",
       "      <td>David Stanley</td>\n",
       "      <td>14.0</td>\n",
       "      <td>LinkedIn</td>\n",
       "      <td>16.0</td>\n",
       "    </tr>\n",
       "    <tr>\n",
       "      <th>272</th>\n",
       "      <td>Sullivan, Timothy</td>\n",
       "      <td>10117</td>\n",
       "      <td>63025.0</td>\n",
       "      <td>19</td>\n",
       "      <td>Production Technician I</td>\n",
       "      <td>1982-10-07 00:00:00</td>\n",
       "      <td>M</td>\n",
       "      <td>Married</td>\n",
       "      <td>White</td>\n",
       "      <td>1/5/2015</td>\n",
       "      <td>NaT</td>\n",
       "      <td>Production</td>\n",
       "      <td>Michael Albert</td>\n",
       "      <td>22.0</td>\n",
       "      <td>Google Search</td>\n",
       "      <td>NaN</td>\n",
       "    </tr>\n",
       "    <tr>\n",
       "      <th>273</th>\n",
       "      <td>Sutwell, Barbara</td>\n",
       "      <td>10209</td>\n",
       "      <td>59144.0</td>\n",
       "      <td>19</td>\n",
       "      <td>Production Technician I</td>\n",
       "      <td>1968-08-15 00:00:00</td>\n",
       "      <td>F</td>\n",
       "      <td>Single</td>\n",
       "      <td>Asian</td>\n",
       "      <td>5/14/2012</td>\n",
       "      <td>NaT</td>\n",
       "      <td>Production</td>\n",
       "      <td>Elijiah Gray</td>\n",
       "      <td>16.0</td>\n",
       "      <td>Indeed</td>\n",
       "      <td>13.0</td>\n",
       "    </tr>\n",
       "    <tr>\n",
       "      <th>276</th>\n",
       "      <td>Tavares, Desiree</td>\n",
       "      <td>10221</td>\n",
       "      <td>59144.0</td>\n",
       "      <td>19</td>\n",
       "      <td>Production Technician I</td>\n",
       "      <td>1975-04-03 00:00:00</td>\n",
       "      <td>F</td>\n",
       "      <td>Married</td>\n",
       "      <td>Black or African American</td>\n",
       "      <td>4/27/2009</td>\n",
       "      <td>2013-04-01</td>\n",
       "      <td>Production</td>\n",
       "      <td>Webster Butler</td>\n",
       "      <td>39.0</td>\n",
       "      <td>Diversity Job Fair</td>\n",
       "      <td>11.0</td>\n",
       "    </tr>\n",
       "    <tr>\n",
       "      <th>288</th>\n",
       "      <td>Valentin,Jackie</td>\n",
       "      <td>10205</td>\n",
       "      <td>57859.0</td>\n",
       "      <td>3</td>\n",
       "      <td>Area Sales Manager</td>\n",
       "      <td>1991-05-23 00:00:00</td>\n",
       "      <td>M</td>\n",
       "      <td>Married</td>\n",
       "      <td>Two or more races</td>\n",
       "      <td>7/5/2011</td>\n",
       "      <td>NaT</td>\n",
       "      <td>Sales</td>\n",
       "      <td>John Smith</td>\n",
       "      <td>17.0</td>\n",
       "      <td>Indeed</td>\n",
       "      <td>16.0</td>\n",
       "    </tr>\n",
       "    <tr>\n",
       "      <th>291</th>\n",
       "      <td>Villanueva, Noah</td>\n",
       "      <td>10253</td>\n",
       "      <td>55875.0</td>\n",
       "      <td>3</td>\n",
       "      <td>Area Sales Manager</td>\n",
       "      <td>1989-07-11 00:00:00</td>\n",
       "      <td>M</td>\n",
       "      <td>Single</td>\n",
       "      <td>Asian</td>\n",
       "      <td>3/5/2012</td>\n",
       "      <td>NaT</td>\n",
       "      <td>Sales</td>\n",
       "      <td>John Smith</td>\n",
       "      <td>17.0</td>\n",
       "      <td>Website</td>\n",
       "      <td>11.0</td>\n",
       "    </tr>\n",
       "    <tr>\n",
       "      <th>293</th>\n",
       "      <td>Volk, Colleen</td>\n",
       "      <td>10022</td>\n",
       "      <td>49773.0</td>\n",
       "      <td>19</td>\n",
       "      <td>Production Technician I</td>\n",
       "      <td>1986-06-03 00:00:00</td>\n",
       "      <td>F</td>\n",
       "      <td>Married</td>\n",
       "      <td>White</td>\n",
       "      <td>9/26/2011</td>\n",
       "      <td>2016-02-08</td>\n",
       "      <td>Production</td>\n",
       "      <td>Kelley Spirea</td>\n",
       "      <td>18.0</td>\n",
       "      <td>Google Search</td>\n",
       "      <td>18.0</td>\n",
       "    </tr>\n",
       "    <tr>\n",
       "      <th>300</th>\n",
       "      <td>Whittier, Scott</td>\n",
       "      <td>10072</td>\n",
       "      <td>58371.0</td>\n",
       "      <td>19</td>\n",
       "      <td>Production Technician I</td>\n",
       "      <td>1987-05-24 00:00:00</td>\n",
       "      <td>M</td>\n",
       "      <td>Single</td>\n",
       "      <td>White</td>\n",
       "      <td>1/10/2011</td>\n",
       "      <td>2014-05-15</td>\n",
       "      <td>Production</td>\n",
       "      <td>Webster Butler</td>\n",
       "      <td>39.0</td>\n",
       "      <td>LinkedIn</td>\n",
       "      <td>11.0</td>\n",
       "    </tr>\n",
       "    <tr>\n",
       "      <th>303</th>\n",
       "      <td>Williams, Jacquelyn</td>\n",
       "      <td>10264</td>\n",
       "      <td>59728.0</td>\n",
       "      <td>19</td>\n",
       "      <td>Production Technician I</td>\n",
       "      <td>1969-10-02 00:00:00</td>\n",
       "      <td>F</td>\n",
       "      <td>Single</td>\n",
       "      <td>Black or African American</td>\n",
       "      <td>1/9/2012</td>\n",
       "      <td>2015-06-27</td>\n",
       "      <td>Production</td>\n",
       "      <td>Ketsia Liebig</td>\n",
       "      <td>19.0</td>\n",
       "      <td>Diversity Job Fair</td>\n",
       "      <td>16.0</td>\n",
       "    </tr>\n",
       "  </tbody>\n",
       "</table>\n",
       "</div>"
      ],
      "text/plain": [
       "             Employee_Name  EmpID    Salary  PositionID  \\\n",
       "15           Bates, Norman  10061   57834.0          19   \n",
       "16        Beak, Kimberly    10023   70131.0          20   \n",
       "27          Bozzi, Charles  10175   74312.0          18   \n",
       "39        Carr, Claudia  N  10082   92710.5          27   \n",
       "42       Champaigne, Brian  10108  110929.0           5   \n",
       "44       Chang, Donovan  E  10154   59144.0          19   \n",
       "51         Clukey, Elijian  10029   50373.0          19   \n",
       "56          Cornett, Lisa   10094   63381.0          19   \n",
       "67           Delarge, Alex  10306   61568.0           3   \n",
       "73          DiNocco, Lily   10284   61584.0          19   \n",
       "84       Estremera, Miguel  10280   60340.0          19   \n",
       "85          Evensen, April  10296   59124.0          19   \n",
       "95           Forrest, Alex  10305   70187.0           3   \n",
       "120           Gruber, Hans  10234   99020.0           4   \n",
       "131        Houlihan, Debra  10272  180000.0          11   \n",
       "133           Hudson, Jane  10248   55425.0          19   \n",
       "136            Huynh, Ming  10160   68182.0          20   \n",
       "144       Johnson, Noelle   10156  105700.0           8   \n",
       "145          Johnston, Yen  10036   59144.0          20   \n",
       "147        Kampew, Donysha  10244   68999.0          21   \n",
       "153      Knapp, Bradley  J  10208   46654.0          19   \n",
       "163          Leach, Dallas  10087   63676.0          19   \n",
       "165       Lecter, Hannibal  10251   64738.0          19   \n",
       "166       Leruth, Giovanni  10103   70468.0           3   \n",
       "189     Monkfish, Erasumus  10213   58207.0          20   \n",
       "192         Moran, Patrick  10223   72106.0          20   \n",
       "194         Motlagh,  Dawn  10254   63430.0          19   \n",
       "200       Newman, Richard   10063   48495.0          19   \n",
       "207         Onque, Jasmine  10121   63051.0           3   \n",
       "210          Ozark, Travis  10041   68829.0           3   \n",
       "211         Panjwani, Nina  10148   63515.0          19   \n",
       "216         Perry, Shakira  10171   45998.0          19   \n",
       "234       Robertson, Peter  10224   55578.0          20   \n",
       "265     Squatrito, Kristen  10030   62425.0          19   \n",
       "272      Sullivan, Timothy  10117   63025.0          19   \n",
       "273       Sutwell, Barbara  10209   59144.0          19   \n",
       "276     Tavares, Desiree    10221   59144.0          19   \n",
       "288        Valentin,Jackie  10205   57859.0           3   \n",
       "291       Villanueva, Noah  10253   55875.0           3   \n",
       "293          Volk, Colleen  10022   49773.0          19   \n",
       "300        Whittier, Scott  10072   58371.0          19   \n",
       "303  Williams, Jacquelyn    10264   59728.0          19   \n",
       "\n",
       "                     Position                 DOB Sex MaritalDesc  \\\n",
       "15    Production Technician I 1981-10-18 00:00:00   M      Single   \n",
       "16   Production Technician II 1966-04-17 00:00:00   F     Married   \n",
       "27         Production Manager 1970-03-10 00:00:00   M      Single   \n",
       "39                    Sr. DBA 1986-06-06 00:00:00   F      Single   \n",
       "42                BI Director 1983-09-04 00:00:00   M     Married   \n",
       "44    Production Technician I 1983-08-24 00:00:00   F      Single   \n",
       "51    Production Technician I 1980-08-26 00:00:00   F     Married   \n",
       "56    Production Technician I 1977-03-31 00:00:00   F     Married   \n",
       "67         Area Sales Manager 1975-11-02 00:00:00   M      Single   \n",
       "73    Production Technician I 1978-12-02 00:00:00   F     Married   \n",
       "84    Production Technician I 1979-10-19 12:00:00   M      Single   \n",
       "85    Production Technician I 1989-05-06 00:00:00   F      Single   \n",
       "95         Area Sales Manager 1975-07-07 00:00:00   M     Married   \n",
       "120              BI Developer 1989-06-30 00:00:00   M     Married   \n",
       "131         Director of Sales 1966-03-17 00:00:00   F     Married   \n",
       "133   Production Technician I 1986-06-10 00:00:00   F      Single   \n",
       "136  Production Technician II 1976-09-22 00:00:00   F    Divorced   \n",
       "144    Database Administrator 1986-11-07 00:00:00   F     Married   \n",
       "145  Production Technician II 1969-09-08 00:00:00   F      Single   \n",
       "147             Sales Manager 1989-11-11 00:00:00   F      Single   \n",
       "153   Production Technician I 1977-11-10 00:00:00   F      Single   \n",
       "163   Production Technician I 1979-01-17 00:00:00   M      Single   \n",
       "165   Production Technician I 1982-09-02 00:00:00   M     Married   \n",
       "166        Area Sales Manager 1988-12-27 00:00:00   M   Separated   \n",
       "189  Production Technician II 1992-08-17 00:00:00   F     Married   \n",
       "192  Production Technician II 1976-12-03 00:00:00   M      Single   \n",
       "194   Production Technician I 1984-07-07 00:00:00   F    Divorced   \n",
       "200   Production Technician I 1977-04-08 00:00:00   M     Married   \n",
       "207        Area Sales Manager 1990-05-11 00:00:00   F      Single   \n",
       "210        Area Sales Manager 1982-05-19 00:00:00   M      Single   \n",
       "211   Production Technician I 1979-05-01 00:00:00   F     Married   \n",
       "216   Production Technician I 1979-10-19 12:00:00   F      Single   \n",
       "234  Production Technician II 1972-07-03 00:00:00   M     Married   \n",
       "265   Production Technician I 1973-03-26 00:00:00   F    Divorced   \n",
       "272   Production Technician I 1982-10-07 00:00:00   M     Married   \n",
       "273   Production Technician I 1968-08-15 00:00:00   F      Single   \n",
       "276   Production Technician I 1975-04-03 00:00:00   F     Married   \n",
       "288        Area Sales Manager 1991-05-23 00:00:00   M     Married   \n",
       "291        Area Sales Manager 1989-07-11 00:00:00   M      Single   \n",
       "293   Production Technician I 1986-06-03 00:00:00   F     Married   \n",
       "300   Production Technician I 1987-05-24 00:00:00   M      Single   \n",
       "303   Production Technician I 1969-10-02 00:00:00   F      Single   \n",
       "\n",
       "                      RaceDesc DateofHire DateofTermination  \\\n",
       "15                       White  2/21/2011        2017-08-04   \n",
       "16                       White  7/21/2016               NaT   \n",
       "27                       Asian  9/30/2013        2014-08-07   \n",
       "39   Black or African American  6/30/2016               NaT   \n",
       "42                       White   9/6/2016               NaT   \n",
       "44                       White   7/8/2013               NaT   \n",
       "51                       White   7/6/2016               NaT   \n",
       "56                       White   1/5/2015               NaT   \n",
       "67           Two or more races  9/29/2014               NaT   \n",
       "73   Black or African American   1/7/2013               NaT   \n",
       "84                       White   4/2/2012        2018-09-27   \n",
       "85                       White  2/17/2014        2018-02-25   \n",
       "95                       White  9/29/2014        2018-08-19   \n",
       "120  Black or African American  4/20/2017               NaT   \n",
       "131                      White   5/5/2014               NaT   \n",
       "133                      White  2/20/2012               NaT   \n",
       "136                      White  2/21/2011        2013-04-01   \n",
       "144                      Asian   1/5/2015               NaT   \n",
       "145                      White   7/7/2014               NaT   \n",
       "147                      White  11/7/2011        2014-04-24   \n",
       "153  Black or African American  2/17/2014               NaT   \n",
       "163                      Asian  9/26/2011        2018-08-19   \n",
       "165                      Asian  5/14/2012               NaT   \n",
       "166  Black or African American  4/30/2012               NaT   \n",
       "189                      White  11/7/2011               NaT   \n",
       "192  Black or African American   1/9/2012               NaT   \n",
       "194                      White   4/1/2013               NaT   \n",
       "200                      White  5/12/2014               NaT   \n",
       "207                      White  9/30/2013               NaT   \n",
       "210                      White   1/5/2015               NaT   \n",
       "211                      White   2/7/2011        2014-01-12   \n",
       "216                      White  5/16/2011        2015-10-25   \n",
       "234                      White   7/5/2011        2012-02-08   \n",
       "265                      White  5/13/2013        2015-06-29   \n",
       "272                      White   1/5/2015               NaT   \n",
       "273                      Asian  5/14/2012               NaT   \n",
       "276  Black or African American  4/27/2009        2013-04-01   \n",
       "288          Two or more races   7/5/2011               NaT   \n",
       "291                      Asian   3/5/2012               NaT   \n",
       "293                      White  9/26/2011        2016-02-08   \n",
       "300                      White  1/10/2011        2014-05-15   \n",
       "303  Black or African American   1/9/2012        2015-06-27   \n",
       "\n",
       "            Department       ManagerName  ManagerID   RecruitmentSource  \\\n",
       "15   Production            Kelley Spirea       18.0       Google Search   \n",
       "16   Production            Kelley Spirea       18.0   Employee Referral   \n",
       "27   Production               Janet King        2.0              Indeed   \n",
       "39               IT/IS        Simon Roup        4.0            LinkedIn   \n",
       "42               IT/IS   Jennifer Zamora        5.0              Indeed   \n",
       "44   Production           Webster Butler        NaN            LinkedIn   \n",
       "51   Production           Brannon Miller       12.0   Employee Referral   \n",
       "56   Production            Kelley Spirea       18.0              Indeed   \n",
       "67               Sales        John Smith       17.0              Indeed   \n",
       "73   Production           Brannon Miller       12.0              Indeed   \n",
       "84   Production           Michael Albert       22.0       Google Search   \n",
       "85   Production             Elijiah Gray       16.0       Google Search   \n",
       "95               Sales     Lynn Daneault       21.0   Employee Referral   \n",
       "120              IT/IS  Brian Champaigne       13.0              Indeed   \n",
       "131              Sales        Janet King        2.0            LinkedIn   \n",
       "133  Production            Ketsia Liebig       19.0            LinkedIn   \n",
       "136  Production                 Amy Dunn       11.0       Google Search   \n",
       "144              IT/IS        Simon Roup        4.0              Indeed   \n",
       "145  Production           Brannon Miller       12.0            LinkedIn   \n",
       "147              Sales    Debra Houlihan       15.0       Google Search   \n",
       "153  Production            Ketsia Liebig       19.0            LinkedIn   \n",
       "163  Production           Kissy Sullivan       20.0       CareerBuilder   \n",
       "165  Production             Elijiah Gray       16.0       Google Search   \n",
       "166              Sales        John Smith       17.0             Website   \n",
       "189  Production            David Stanley       14.0            LinkedIn   \n",
       "192  Production            Kelley Spirea       18.0  Diversity Job Fair   \n",
       "194  Production             Elijiah Gray       16.0            LinkedIn   \n",
       "200  Production            Ketsia Liebig       19.0            LinkedIn   \n",
       "207              Sales     Lynn Daneault       21.0              Indeed   \n",
       "210              Sales        John Smith       17.0             Website   \n",
       "211  Production             Elijiah Gray       16.0       Google Search   \n",
       "216  Production                 Amy Dunn       11.0            LinkedIn   \n",
       "234  Production           Kissy Sullivan       20.0              Indeed   \n",
       "265  Production            David Stanley       14.0            LinkedIn   \n",
       "272  Production           Michael Albert       22.0       Google Search   \n",
       "273  Production             Elijiah Gray       16.0              Indeed   \n",
       "276  Production           Webster Butler       39.0  Diversity Job Fair   \n",
       "288              Sales        John Smith       17.0              Indeed   \n",
       "291              Sales        John Smith       17.0             Website   \n",
       "293  Production            Kelley Spirea       18.0       Google Search   \n",
       "300  Production           Webster Butler       39.0            LinkedIn   \n",
       "303  Production            Ketsia Liebig       19.0  Diversity Job Fair   \n",
       "\n",
       "     Absences  \n",
       "15       20.0  \n",
       "16       16.0  \n",
       "27       14.0  \n",
       "39        7.0  \n",
       "42        8.0  \n",
       "44        4.0  \n",
       "51        5.0  \n",
       "56        6.0  \n",
       "67        5.0  \n",
       "73        6.0  \n",
       "84       16.0  \n",
       "85       19.0  \n",
       "95        7.0  \n",
       "120       8.0  \n",
       "131      19.0  \n",
       "133       4.0  \n",
       "136      18.0  \n",
       "144       2.0  \n",
       "145       1.0  \n",
       "147       2.0  \n",
       "153       3.0  \n",
       "163      17.0  \n",
       "165      10.0  \n",
       "166      16.0  \n",
       "189      14.0  \n",
       "192      12.0  \n",
       "194       NaN  \n",
       "200      11.0  \n",
       "207       1.0  \n",
       "210      18.0  \n",
       "211       NaN  \n",
       "216       5.0  \n",
       "234       NaN  \n",
       "265      16.0  \n",
       "272       NaN  \n",
       "273      13.0  \n",
       "276      11.0  \n",
       "288      16.0  \n",
       "291      11.0  \n",
       "293      18.0  \n",
       "300      11.0  \n",
       "303      16.0  "
      ]
     },
     "execution_count": 21,
     "metadata": {},
     "output_type": "execute_result"
    }
   ],
   "source": [
    "'''\n",
    "Other solution is to use the names dataset from nltk library\n",
    "'''\n",
    "import nltk\n",
    "# import ssl\n",
    "\n",
    "# try:\n",
    "#     _create_unverified_https_context = ssl._create_unverified_context\n",
    "# except AttributeError:\n",
    "#     pass\n",
    "# else:\n",
    "#     ssl._create_default_https_context = _create_unverified_https_context\n",
    "\n",
    "# nltk.download('names')\n",
    "from nltk.corpus import names\n",
    "\n",
    "male_names = set(names.words('male.txt'))\n",
    "female_names = set(names.words('female.txt'))\n",
    "\n",
    "def detect_gender(name):\n",
    "    #name = name.lower()\n",
    "    name = name.split(',')[1].strip()\n",
    "    if male_names.intersection([name]):\n",
    "        return 'M'\n",
    "    elif female_names.intersection([name]):\n",
    "        return 'F'\n",
    "    else:\n",
    "        return df['Sex'].mode()[0]\n",
    "    \n",
    "for i, r in df[dept_name_mask].iterrows():\n",
    "    df.loc[i,'Sex'] = detect_gender(r['Employee_Name'])\n",
    "df.loc[dept_name_mask]"
   ]
  },
  {
   "cell_type": "code",
   "execution_count": 22,
   "id": "31874ef7",
   "metadata": {},
   "outputs": [],
   "source": [
    "#rest will be filled with the mode\n",
    "df['Sex'] = df['Sex'].fillna(df['Sex'].mode()[0])"
   ]
  },
  {
   "cell_type": "markdown",
   "id": "f844e60f",
   "metadata": {},
   "source": [
    "#### Date of Termination\n",
    "can be replaced with the average of the column"
   ]
  },
  {
   "cell_type": "code",
   "execution_count": 23,
   "id": "e59c90d3",
   "metadata": {},
   "outputs": [],
   "source": [
    "#replace with the average of the column\n",
    "df['DateofTermination'] = df['DateofTermination'].fillna(df['DateofTermination'].median())"
   ]
  },
  {
   "cell_type": "markdown",
   "id": "5909eafc",
   "metadata": {},
   "source": [
    "#### Absences\n",
    "can be replaced with the average or median"
   ]
  },
  {
   "cell_type": "code",
   "execution_count": 24,
   "id": "upper-movie",
   "metadata": {},
   "outputs": [],
   "source": [
    "#replace with the median of the column\n",
    "df['Absences'] = df['Absences'].fillna(df['Absences'].median())"
   ]
  },
  {
   "cell_type": "code",
   "execution_count": 25,
   "id": "948d02b5",
   "metadata": {},
   "outputs": [
    {
     "data": {
      "text/html": [
       "<div>\n",
       "<style scoped>\n",
       "    .dataframe tbody tr th:only-of-type {\n",
       "        vertical-align: middle;\n",
       "    }\n",
       "\n",
       "    .dataframe tbody tr th {\n",
       "        vertical-align: top;\n",
       "    }\n",
       "\n",
       "    .dataframe thead th {\n",
       "        text-align: right;\n",
       "    }\n",
       "</style>\n",
       "<table border=\"1\" class=\"dataframe\">\n",
       "  <thead>\n",
       "    <tr style=\"text-align: right;\">\n",
       "      <th></th>\n",
       "      <th>EmpID</th>\n",
       "      <th>Salary</th>\n",
       "      <th>PositionID</th>\n",
       "      <th>ManagerID</th>\n",
       "      <th>Absences</th>\n",
       "    </tr>\n",
       "  </thead>\n",
       "  <tbody>\n",
       "    <tr>\n",
       "      <th>count</th>\n",
       "      <td>311.000000</td>\n",
       "      <td>311.000000</td>\n",
       "      <td>311.000000</td>\n",
       "      <td>303.000000</td>\n",
       "      <td>311.000000</td>\n",
       "    </tr>\n",
       "    <tr>\n",
       "      <th>mean</th>\n",
       "      <td>10156.000000</td>\n",
       "      <td>68456.757235</td>\n",
       "      <td>16.845659</td>\n",
       "      <td>14.570957</td>\n",
       "      <td>10.115756</td>\n",
       "    </tr>\n",
       "    <tr>\n",
       "      <th>std</th>\n",
       "      <td>89.922189</td>\n",
       "      <td>23208.656750</td>\n",
       "      <td>6.223419</td>\n",
       "      <td>8.078306</td>\n",
       "      <td>5.641389</td>\n",
       "    </tr>\n",
       "    <tr>\n",
       "      <th>min</th>\n",
       "      <td>10001.000000</td>\n",
       "      <td>45046.000000</td>\n",
       "      <td>1.000000</td>\n",
       "      <td>1.000000</td>\n",
       "      <td>1.000000</td>\n",
       "    </tr>\n",
       "    <tr>\n",
       "      <th>25%</th>\n",
       "      <td>10078.500000</td>\n",
       "      <td>57781.500000</td>\n",
       "      <td>18.000000</td>\n",
       "      <td>10.000000</td>\n",
       "      <td>5.000000</td>\n",
       "    </tr>\n",
       "    <tr>\n",
       "      <th>50%</th>\n",
       "      <td>10156.000000</td>\n",
       "      <td>61844.000000</td>\n",
       "      <td>19.000000</td>\n",
       "      <td>15.000000</td>\n",
       "      <td>10.000000</td>\n",
       "    </tr>\n",
       "    <tr>\n",
       "      <th>75%</th>\n",
       "      <td>10233.500000</td>\n",
       "      <td>71741.500000</td>\n",
       "      <td>20.000000</td>\n",
       "      <td>19.000000</td>\n",
       "      <td>15.000000</td>\n",
       "    </tr>\n",
       "    <tr>\n",
       "      <th>max</th>\n",
       "      <td>10311.000000</td>\n",
       "      <td>220450.000000</td>\n",
       "      <td>30.000000</td>\n",
       "      <td>39.000000</td>\n",
       "      <td>20.000000</td>\n",
       "    </tr>\n",
       "  </tbody>\n",
       "</table>\n",
       "</div>"
      ],
      "text/plain": [
       "              EmpID         Salary  PositionID   ManagerID    Absences\n",
       "count    311.000000     311.000000  311.000000  303.000000  311.000000\n",
       "mean   10156.000000   68456.757235   16.845659   14.570957   10.115756\n",
       "std       89.922189   23208.656750    6.223419    8.078306    5.641389\n",
       "min    10001.000000   45046.000000    1.000000    1.000000    1.000000\n",
       "25%    10078.500000   57781.500000   18.000000   10.000000    5.000000\n",
       "50%    10156.000000   61844.000000   19.000000   15.000000   10.000000\n",
       "75%    10233.500000   71741.500000   20.000000   19.000000   15.000000\n",
       "max    10311.000000  220450.000000   30.000000   39.000000   20.000000"
      ]
     },
     "execution_count": 25,
     "metadata": {},
     "output_type": "execute_result"
    }
   ],
   "source": [
    "df.describe()"
   ]
  },
  {
   "cell_type": "code",
   "execution_count": 26,
   "id": "2df7b62f",
   "metadata": {},
   "outputs": [],
   "source": [
    "# All the missing values are from one mangager: Webster Butler\n",
    "# his ID is 39\n",
    "df['ManagerID'] = df['ManagerID'].fillna(39)"
   ]
  },
  {
   "cell_type": "code",
   "execution_count": 27,
   "id": "peripheral-starter",
   "metadata": {},
   "outputs": [
    {
     "data": {
      "text/plain": [
       "Employee_Name        0\n",
       "EmpID                0\n",
       "Salary               0\n",
       "PositionID           0\n",
       "Position             0\n",
       "DOB                  0\n",
       "Sex                  0\n",
       "MaritalDesc          0\n",
       "RaceDesc             0\n",
       "DateofHire           0\n",
       "DateofTermination    0\n",
       "Department           0\n",
       "ManagerName          0\n",
       "ManagerID            0\n",
       "RecruitmentSource    0\n",
       "Absences             0\n",
       "dtype: int64"
      ]
     },
     "execution_count": 27,
     "metadata": {},
     "output_type": "execute_result"
    }
   ],
   "source": [
    "df.isna().sum()"
   ]
  }
 ],
 "metadata": {
  "kernelspec": {
   "display_name": "Python 3 (ipykernel)",
   "language": "python",
   "name": "python3"
  },
  "language_info": {
   "codemirror_mode": {
    "name": "ipython",
    "version": 3
   },
   "file_extension": ".py",
   "mimetype": "text/x-python",
   "name": "python",
   "nbconvert_exporter": "python",
   "pygments_lexer": "ipython3",
   "version": "3.10.2"
  }
 },
 "nbformat": 4,
 "nbformat_minor": 5
}
